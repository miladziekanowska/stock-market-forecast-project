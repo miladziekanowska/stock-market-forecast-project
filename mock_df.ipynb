{
 "cells": [
  {
   "cell_type": "code",
   "execution_count": 1,
   "id": "0eb40348-6e3e-4b22-8a8e-f4b28ec15c80",
   "metadata": {},
   "outputs": [
    {
     "name": "stdout",
     "output_type": "stream",
     "text": [
      "Stock data ready to use!\n"
     ]
    }
   ],
   "source": [
    "import pandas as pd\n",
    "import numpy as np\n",
    "import yahoo_fin.stock_info as yh\n",
    "from stock_dataset import stock_data\n",
    "import warnings\n",
    "\n",
    "warnings.filterwarnings(\"ignore\")"
   ]
  },
  {
   "cell_type": "code",
   "execution_count": 2,
   "id": "6da17c9c-2f2b-4a9d-a7a2-2a16f9cc32dc",
   "metadata": {},
   "outputs": [],
   "source": [
    "for key in stock_data.keys():\n",
    "    stock_data[key]['pred_close'] = stock_data[key]['close'].mean()\n",
    "    stock_data[key] = stock_data[key].drop(['close'], axis=1)\n",
    "    stock_data[key]['ticker'] = key"
   ]
  },
  {
   "cell_type": "code",
   "execution_count": 3,
   "id": "4dd1c7fc-8864-48fb-a593-ad134e1d8aae",
   "metadata": {},
   "outputs": [
    {
     "data": {
      "text/html": [
       "<div>\n",
       "<style scoped>\n",
       "    .dataframe tbody tr th:only-of-type {\n",
       "        vertical-align: middle;\n",
       "    }\n",
       "\n",
       "    .dataframe tbody tr th {\n",
       "        vertical-align: top;\n",
       "    }\n",
       "\n",
       "    .dataframe thead th {\n",
       "        text-align: right;\n",
       "    }\n",
       "</style>\n",
       "<table border=\"1\" class=\"dataframe\">\n",
       "  <thead>\n",
       "    <tr style=\"text-align: right;\">\n",
       "      <th></th>\n",
       "      <th>date</th>\n",
       "      <th>dailychange</th>\n",
       "      <th>pred_close</th>\n",
       "      <th>ticker</th>\n",
       "    </tr>\n",
       "  </thead>\n",
       "  <tbody>\n",
       "    <tr>\n",
       "      <th>0</th>\n",
       "      <td>2020-07-20</td>\n",
       "      <td>1.000000</td>\n",
       "      <td>145.810276</td>\n",
       "      <td>AAPL</td>\n",
       "    </tr>\n",
       "    <tr>\n",
       "      <th>1</th>\n",
       "      <td>2020-07-21</td>\n",
       "      <td>0.986198</td>\n",
       "      <td>145.810276</td>\n",
       "      <td>AAPL</td>\n",
       "    </tr>\n",
       "    <tr>\n",
       "      <th>2</th>\n",
       "      <td>2020-07-22</td>\n",
       "      <td>1.002809</td>\n",
       "      <td>145.810276</td>\n",
       "      <td>AAPL</td>\n",
       "    </tr>\n",
       "    <tr>\n",
       "      <th>3</th>\n",
       "      <td>2020-07-23</td>\n",
       "      <td>0.954484</td>\n",
       "      <td>145.810276</td>\n",
       "      <td>AAPL</td>\n",
       "    </tr>\n",
       "    <tr>\n",
       "      <th>4</th>\n",
       "      <td>2020-07-24</td>\n",
       "      <td>0.997523</td>\n",
       "      <td>145.810276</td>\n",
       "      <td>AAPL</td>\n",
       "    </tr>\n",
       "    <tr>\n",
       "      <th>...</th>\n",
       "      <td>...</td>\n",
       "      <td>...</td>\n",
       "      <td>...</td>\n",
       "      <td>...</td>\n",
       "    </tr>\n",
       "    <tr>\n",
       "      <th>748</th>\n",
       "      <td>2023-07-11</td>\n",
       "      <td>0.997190</td>\n",
       "      <td>145.810276</td>\n",
       "      <td>AAPL</td>\n",
       "    </tr>\n",
       "    <tr>\n",
       "      <th>749</th>\n",
       "      <td>2023-07-12</td>\n",
       "      <td>1.008986</td>\n",
       "      <td>145.810276</td>\n",
       "      <td>AAPL</td>\n",
       "    </tr>\n",
       "    <tr>\n",
       "      <th>750</th>\n",
       "      <td>2023-07-13</td>\n",
       "      <td>1.004057</td>\n",
       "      <td>145.810276</td>\n",
       "      <td>AAPL</td>\n",
       "    </tr>\n",
       "    <tr>\n",
       "      <th>751</th>\n",
       "      <td>2023-07-14</td>\n",
       "      <td>1.000787</td>\n",
       "      <td>145.810276</td>\n",
       "      <td>AAPL</td>\n",
       "    </tr>\n",
       "    <tr>\n",
       "      <th>752</th>\n",
       "      <td>2023-07-17</td>\n",
       "      <td>1.017306</td>\n",
       "      <td>145.810276</td>\n",
       "      <td>AAPL</td>\n",
       "    </tr>\n",
       "  </tbody>\n",
       "</table>\n",
       "<p>753 rows × 4 columns</p>\n",
       "</div>"
      ],
      "text/plain": [
       "          date  dailychange  pred_close ticker\n",
       "0   2020-07-20     1.000000  145.810276   AAPL\n",
       "1   2020-07-21     0.986198  145.810276   AAPL\n",
       "2   2020-07-22     1.002809  145.810276   AAPL\n",
       "3   2020-07-23     0.954484  145.810276   AAPL\n",
       "4   2020-07-24     0.997523  145.810276   AAPL\n",
       "..         ...          ...         ...    ...\n",
       "748 2023-07-11     0.997190  145.810276   AAPL\n",
       "749 2023-07-12     1.008986  145.810276   AAPL\n",
       "750 2023-07-13     1.004057  145.810276   AAPL\n",
       "751 2023-07-14     1.000787  145.810276   AAPL\n",
       "752 2023-07-17     1.017306  145.810276   AAPL\n",
       "\n",
       "[753 rows x 4 columns]"
      ]
     },
     "execution_count": 3,
     "metadata": {},
     "output_type": "execute_result"
    }
   ],
   "source": [
    "stock_data['AAPL']"
   ]
  },
  {
   "cell_type": "code",
   "execution_count": 4,
   "id": "b1ac21b6-a07c-4741-bddc-e2c13e113bf4",
   "metadata": {},
   "outputs": [],
   "source": [
    "dataset = pd.concat(stock_data.values()).reset_index(drop=True)\n",
    "\n",
    "dataset.to_csv('data/mock_predict_data.csv')"
   ]
  },
  {
   "cell_type": "code",
   "execution_count": null,
   "id": "c7ecfbc2-3e39-469a-97ff-e1d3f7d1dab9",
   "metadata": {},
   "outputs": [],
   "source": []
  }
 ],
 "metadata": {
  "kernelspec": {
   "display_name": "Python 3 (ipykernel)",
   "language": "python",
   "name": "python3"
  },
  "language_info": {
   "codemirror_mode": {
    "name": "ipython",
    "version": 3
   },
   "file_extension": ".py",
   "mimetype": "text/x-python",
   "name": "python",
   "nbconvert_exporter": "python",
   "pygments_lexer": "ipython3",
   "version": "3.10.9"
  }
 },
 "nbformat": 4,
 "nbformat_minor": 5
}
