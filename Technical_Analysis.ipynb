{
  "nbformat": 4,
  "nbformat_minor": 0,
  "metadata": {
    "colab": {
      "provenance": [],
      "authorship_tag": "ABX9TyNJz6M+wIRvJZ3iKLUoKoEx",
      "include_colab_link": true
    },
    "kernelspec": {
      "name": "python3",
      "display_name": "Python 3"
    },
    "language_info": {
      "name": "python"
    }
  },
  "cells": [
    {
      "cell_type": "markdown",
      "metadata": {
        "id": "view-in-github",
        "colab_type": "text"
      },
      "source": [
        "<a href=\"https://colab.research.google.com/github/miladziekanowska/stock-market-forecast-project/blob/main/Technical_Analysis.ipynb\" target=\"_parent\"><img src=\"https://colab.research.google.com/assets/colab-badge.svg\" alt=\"Open In Colab\"/></a>"
      ]
    },
    {
      "cell_type": "markdown",
      "source": [
        "**Installing libraries and fixing problems with Talib ;)**"
      ],
      "metadata": {
        "id": "1oirpHm49DQ9"
      }
    },
    {
      "cell_type": "code",
      "source": [
        "!wget http://prdownloads.sourceforge.net/ta-lib/ta-lib-0.4.0-src.tar.gz\n",
        "!tar xvzf ta-lib-0.4.0-src.tar.gz\n",
        "import os\n",
        "os.chdir('ta-lib')\n",
        "!./configure --prefix=/usr\n",
        "!make\n",
        "!sudo make install\n",
        "os.chdir('../')\n",
        "!pip install TA-Lib"
      ],
      "metadata": {
        "id": "Zl9YilNP4Teg"
      },
      "execution_count": null,
      "outputs": []
    },
    {
      "cell_type": "code",
      "source": [
        "pip install Yahoo_fin\n"
      ],
      "metadata": {
        "id": "qlpEbLzD6hPq"
      },
      "execution_count": null,
      "outputs": []
    },
    {
      "cell_type": "code",
      "source": [
        "import datetime as dt\n",
        "import pandas as pd\n",
        "import numpy as np\n",
        "import yahoo_fin.stock_info as yh\n",
        "import talib as ta\n",
        "import matplotlib.pyplot as plt\n",
        "import pandas_datareader as web\n",
        "import matplotlib.dates as mdates\n",
        "pd.set_option('display.max_columns', 20)"
      ],
      "metadata": {
        "id": "bNPWKpQT8mnw"
      },
      "execution_count": 3,
      "outputs": []
    },
    {
      "cell_type": "code",
      "source": [
        "ticker_list = yh.tickers_dow()\n",
        "historical_datas = {}\n",
        "for ticker in ticker_list:\n",
        "    historical_datas[ticker] = yh.get_data(ticker, start_date=\"01/01/1993\", end_date='now', index_as_date = True, interval=\"1d\")"
      ],
      "metadata": {
        "id": "R8wHNDW-91sp"
      },
      "execution_count": null,
      "outputs": []
    },
    {
      "cell_type": "code",
      "source": [
        "historical_datas['AAPL']"
      ],
      "metadata": {
        "id": "ycxT8Va29_5a"
      },
      "execution_count": null,
      "outputs": []
    },
    {
      "cell_type": "markdown",
      "source": [
        "**RSI**"
      ],
      "metadata": {
        "id": "tJU4zoR387Hh"
      }
    },
    {
      "cell_type": "code",
      "source": [
        "historical_datas['AAPL']['RSI'] = ta.RSI(historical_datas['AAPL']['close'].tail(400))"
      ],
      "metadata": {
        "id": "dKZF6fAY8_Um"
      },
      "execution_count": 34,
      "outputs": []
    },
    {
      "cell_type": "code",
      "source": [
        "fig, axs = plt.subplots(2, 1, gridspec_kw={\"height_ratios\":[3,1]}, figsize=(10, 6))\n",
        "\n",
        "axs[0].plot(historical_datas['AAPL']['close'].tail(400))\n",
        "axs[1].axhline(y=70, color='r', linestyle='--')\n",
        "axs[1].axhline(y=30, color='g', linestyle='--')\n",
        "axs[1].plot(historical_datas['AAPL']['RSI'].tail(400), color='orange')"
      ],
      "metadata": {
        "id": "2jykNhfnBGYr"
      },
      "execution_count": null,
      "outputs": []
    },
    {
      "cell_type": "code",
      "source": [
        "historical_datas['AAPL']['RSI_signal'] = 'HOLD'  # Inicjalizacja sygnałów na 'HOLD'\n",
        "\n",
        "rsi_values = historical_datas['AAPL']['RSI']\n",
        "rsi_signals = []\n",
        "\n",
        "#Dopisanie sygnałów do kolumny RSI_signals\n",
        "for rsi in rsi_values:\n",
        "    if rsi < 30:\n",
        "        rsi_signals.append('BUY')\n",
        "    elif rsi > 70:\n",
        "        rsi_signals.append('SELL')\n",
        "    else:\n",
        "        rsi_signals.append('HOLD')\n",
        "\n",
        "historical_datas['AAPL']['RSI_signal'] = rsi_signals\n"
      ],
      "metadata": {
        "id": "aSVEFMJhFelk"
      },
      "execution_count": 36,
      "outputs": []
    },
    {
      "cell_type": "code",
      "source": [
        "historical_datas['AAPL'].tail(30)"
      ],
      "metadata": {
        "id": "M2W4qK7WHvMy"
      },
      "execution_count": null,
      "outputs": []
    },
    {
      "cell_type": "markdown",
      "source": [
        "**MACD**"
      ],
      "metadata": {
        "id": "nJZphbfRNDxi"
      }
    },
    {
      "cell_type": "code",
      "source": [
        "historical_datas['AAPL']['MACD'], historical_datas['AAPL']['MACD_signalline'], macd_hist = ta.MACD(historical_datas['AAPL']['close'].tail(400))\n",
        "\n",
        "fig, axs = plt.subplots(2, 1, gridspec_kw={\"height_ratios\":[3,1]}, figsize=(10, 6))\n",
        "\n",
        "c = [\"red\" if cl < 0 else \"green\" for cl in macd_hist]\n",
        "\n",
        "axs[0].plot(historical_datas['AAPL']['close'].tail(400))\n",
        "axs[1].plot(historical_datas['AAPL']['MACD'], 'b-')\n",
        "axs[1].plot(historical_datas['AAPL']['MACD_signalline'], 'b-', color='red')\n",
        "axs[1].bar(macd_hist.index, macd_hist, color=c)"
      ],
      "metadata": {
        "id": "g9vKaFi4QchF"
      },
      "execution_count": null,
      "outputs": []
    },
    {
      "cell_type": "code",
      "source": [
        "historical_datas['AAPL'].tail(50)"
      ],
      "metadata": {
        "id": "ACqqTWTOnM0z"
      },
      "execution_count": null,
      "outputs": []
    },
    {
      "cell_type": "code",
      "source": [
        "\n",
        "signals = []\n",
        "position = 'HOLD'\n",
        "\n",
        "for i in range(len(historical_datas['AAPL'])):\n",
        "    if i == 0:\n",
        "        signals.append(position)\n",
        "    else:\n",
        "        if historical_datas['AAPL']['MACD'][i] > historical_datas['AAPL']['MACD_signalline'][i] and historical_datas['AAPL']['MACD'][i - 1] <= historical_datas['AAPL']['MACD_signalline'][i - 1]:\n",
        "            position = 'BUY'\n",
        "        elif historical_datas['AAPL']['MACD'][i] < historical_datas['AAPL']['MACD_signalline'][i] and historical_datas['AAPL']['MACD'][i - 1] >= historical_datas['AAPL']['MACD_signalline'][i - 1]:\n",
        "            position = 'SELL'\n",
        "        else:\n",
        "            position = 'HOLD'\n",
        "\n",
        "        signals.append(position)\n",
        "\n",
        "historical_datas['AAPL']['MACD_signal'] = signals\n"
      ],
      "metadata": {
        "id": "HMrp8OTQkyhR"
      },
      "execution_count": 40,
      "outputs": []
    },
    {
      "cell_type": "markdown",
      "source": [
        "**Williams %R**"
      ],
      "metadata": {
        "id": "DTytT5jNeshl"
      }
    },
    {
      "cell_type": "code",
      "source": [
        "historical_datas['AAPL']['WillR'] = ta.WILLR(historical_datas['AAPL']['high'], historical_datas['AAPL']['low'], historical_datas['AAPL']['close'])"
      ],
      "metadata": {
        "id": "29avBa6wer00"
      },
      "execution_count": 41,
      "outputs": []
    },
    {
      "cell_type": "code",
      "source": [
        "fig, axs = plt.subplots(2, 1, gridspec_kw={\"height_ratios\":[3,1]}, figsize=(10, 6))\n",
        "\n",
        "axs[0].plot(historical_datas['AAPL']['close'].tail(200))\n",
        "axs[1].axhline(y=-80, color='r', linestyle='--')\n",
        "axs[1].axhline(y=-20, color='g', linestyle='--')\n",
        "axs[1].plot(historical_datas['AAPL']['WillR'].tail(200), color='orange')"
      ],
      "metadata": {
        "id": "_Y273NjlfDwn"
      },
      "execution_count": null,
      "outputs": []
    },
    {
      "cell_type": "code",
      "source": [
        "historical_datas['AAPL']['WillR_signal'] = 'HOLD'\n",
        "\n",
        "willr_values = historical_datas['AAPL']['WillR']\n",
        "willr_signals = []\n",
        "\n",
        "\n",
        "for willr in willr_values:\n",
        "    if willr < -80:\n",
        "        willr_signals.append('BUY')\n",
        "    elif willr > -20:\n",
        "        willr_signals.append('SELL')\n",
        "    else:\n",
        "        willr_signals.append('HOLD')\n",
        "\n",
        "historical_datas['AAPL']['WillR_signal'] = willr_signals"
      ],
      "metadata": {
        "id": "hCbSMJU9mCOx"
      },
      "execution_count": 43,
      "outputs": []
    },
    {
      "cell_type": "code",
      "source": [
        "historical_datas['AAPL'].tail(50)"
      ],
      "metadata": {
        "id": "N0Ul2hXviPC4"
      },
      "execution_count": null,
      "outputs": []
    },
    {
      "cell_type": "markdown",
      "source": [
        "**CCI**"
      ],
      "metadata": {
        "id": "VGJetoyhxBaq"
      }
    },
    {
      "cell_type": "code",
      "source": [
        "historical_datas['AAPL']['CCI'] = ta.CCI(historical_datas['AAPL']['high'], historical_datas['AAPL']['low'], historical_datas['AAPL']['close'])"
      ],
      "metadata": {
        "id": "B7Wko7AKvuO0"
      },
      "execution_count": 45,
      "outputs": []
    },
    {
      "cell_type": "code",
      "source": [
        "fig, axs = plt.subplots(2, 1, gridspec_kw={\"height_ratios\":[3,1]}, figsize=(10, 6))\n",
        "\n",
        "axs[0].plot(historical_datas['AAPL']['close'].tail(200))\n",
        "axs[1].axhline(y=200, color='r', linestyle='--')\n",
        "axs[1].axhline(y=-200, color='g', linestyle='--')\n",
        "axs[1].plot(historical_datas['AAPL']['CCI'].tail(200), color='orange')"
      ],
      "metadata": {
        "id": "8LvsxBDSxGlv"
      },
      "execution_count": null,
      "outputs": []
    },
    {
      "cell_type": "code",
      "source": [
        "historical_datas['AAPL']['CCI_signals'] = 'HOLD'\n",
        "\n",
        "cci_values = historical_datas['AAPL']['CCI']\n",
        "cci_signals = []\n",
        "\n",
        "\n",
        "for cci in cci_values:\n",
        "    if cci > 200 :\n",
        "        cci_signals.append('BUY')\n",
        "    elif cci < -200:\n",
        "        cci_signals.append('SELL')\n",
        "    else:\n",
        "        cci_signals.append('HOLD')\n",
        "\n",
        "historical_datas['AAPL']['CCI_signals'] = cci_signals"
      ],
      "metadata": {
        "id": "Rzl51oXVxz5O"
      },
      "execution_count": 47,
      "outputs": []
    },
    {
      "cell_type": "markdown",
      "source": [
        "**BOP**"
      ],
      "metadata": {
        "id": "mSPg6tLj_9rc"
      }
    },
    {
      "cell_type": "code",
      "source": [
        "historical_datas['AAPL']['BOP'] = ta.BOP(historical_datas['AAPL']['open'], historical_datas['AAPL']['high'], historical_datas['AAPL']['low'], historical_datas['AAPL']['close'])"
      ],
      "metadata": {
        "id": "nyd5xSbW6Guu"
      },
      "execution_count": 48,
      "outputs": []
    },
    {
      "cell_type": "code",
      "source": [
        "fig, axs = plt.subplots(2, 1, gridspec_kw={\"height_ratios\":[3,1]}, figsize=(10, 6))\n",
        "\n",
        "axs[0].plot(historical_datas['AAPL']['close'].tail(200))\n",
        "axs[1].axhline(y=0, color='g', linestyle='--')\n",
        "axs[1].plot(historical_datas['AAPL']['BOP'].tail(200), color='orange')"
      ],
      "metadata": {
        "id": "iRpB4qLe-RDA"
      },
      "execution_count": null,
      "outputs": []
    },
    {
      "cell_type": "code",
      "source": [
        "historical_datas['AAPL']['BOP_signals'] = 'HOLD'\n",
        "\n",
        "bop_values = historical_datas['AAPL']['BOP']\n",
        "bop_signals = []\n",
        "\n",
        "\n",
        "for bop in bop_values:\n",
        "    if bop > 0 :\n",
        "        bop_signals.append('BUY')\n",
        "    elif bop < 0:\n",
        "        bop_signals.append('SELL')\n",
        "    else:\n",
        "        bop_signals.append('HOLD')\n",
        "\n",
        "historical_datas['AAPL']['BOP_signals'] = bop_signals"
      ],
      "metadata": {
        "id": "VTJivLPN-8-l"
      },
      "execution_count": 50,
      "outputs": []
    },
    {
      "cell_type": "code",
      "source": [
        "historical_datas['AAPL'].tail(50)"
      ],
      "metadata": {
        "id": "Qm0oroWl-Bzz"
      },
      "execution_count": null,
      "outputs": []
    }
  ]
}