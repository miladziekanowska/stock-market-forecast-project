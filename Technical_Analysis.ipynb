{
  "nbformat": 4,
  "nbformat_minor": 0,
  "metadata": {
    "colab": {
      "provenance": [],
      "authorship_tag": "ABX9TyOfPABHrIEOp40WqZHVAD2d",
      "include_colab_link": true
    },
    "kernelspec": {
      "name": "python3",
      "display_name": "Python 3"
    },
    "language_info": {
      "name": "python"
    }
  },
  "cells": [
    {
      "cell_type": "markdown",
      "metadata": {
        "id": "view-in-github",
        "colab_type": "text"
      },
      "source": [
        "<a href=\"https://colab.research.google.com/github/miladziekanowska/stock-market-forecast-project/blob/main/Technical_Analysis.ipynb\" target=\"_parent\"><img src=\"https://colab.research.google.com/assets/colab-badge.svg\" alt=\"Open In Colab\"/></a>"
      ]
    },
    {
      "cell_type": "markdown",
      "source": [
        "**Installing libraries and fixing problems with Talib ;)**"
      ],
      "metadata": {
        "id": "1oirpHm49DQ9"
      }
    },
    {
      "cell_type": "code",
      "source": [
        "!wget http://prdownloads.sourceforge.net/ta-lib/ta-lib-0.4.0-src.tar.gz\n",
        "!tar xvzf ta-lib-0.4.0-src.tar.gz\n",
        "import os\n",
        "os.chdir('ta-lib')\n",
        "!./configure --prefix=/usr\n",
        "!make\n",
        "!sudo make install\n",
        "os.chdir('../')\n",
        "!pip install TA-Lib"
      ],
      "metadata": {
        "id": "Zl9YilNP4Teg"
      },
      "execution_count": null,
      "outputs": []
    },
    {
      "cell_type": "code",
      "source": [
        "pip install Yahoo_fin\n"
      ],
      "metadata": {
        "id": "qlpEbLzD6hPq"
      },
      "execution_count": null,
      "outputs": []
    },
    {
      "cell_type": "code",
      "source": [
        "import datetime as dt\n",
        "import pandas as pd\n",
        "import numpy as np\n",
        "import yahoo_fin.stock_info as yh\n",
        "import talib as ta\n",
        "import matplotlib.pyplot as plt\n",
        "import pandas_datareader as web\n",
        "import matplotlib.dates as mdates"
      ],
      "metadata": {
        "id": "bNPWKpQT8mnw"
      },
      "execution_count": 15,
      "outputs": []
    },
    {
      "cell_type": "code",
      "source": [
        "ticker_list = yh.tickers_dow()\n",
        "historical_datas = {}\n",
        "for ticker in ticker_list:\n",
        "    historical_datas[ticker] = yh.get_data(ticker, start_date=\"13/07/1993\", end_date='now', index_as_date = True, interval=\"1d\")"
      ],
      "metadata": {
        "id": "R8wHNDW-91sp"
      },
      "execution_count": null,
      "outputs": []
    },
    {
      "cell_type": "code",
      "source": [
        "historical_datas['AAPL']"
      ],
      "metadata": {
        "colab": {
          "base_uri": "https://localhost:8080/",
          "height": 423
        },
        "id": "ycxT8Va29_5a",
        "outputId": "75b7fb53-8e36-4940-ad33-339a7cf7a24c"
      },
      "execution_count": 39,
      "outputs": [
        {
          "output_type": "execute_result",
          "data": {
            "text/plain": [
              "                  open        high         low       close    adjclose  \\\n",
              "1993-07-13    0.345982    0.345982    0.330357    0.332589    0.273418   \n",
              "1993-07-14    0.328125    0.334821    0.319196    0.332589    0.273418   \n",
              "1993-07-15    0.332589    0.337054    0.314732    0.319196    0.262408   \n",
              "1993-07-16    0.254464    0.264509    0.236607    0.245536    0.201853   \n",
              "1993-07-19    0.250000    0.256696    0.227679    0.228795    0.188090   \n",
              "...                ...         ...         ...         ...         ...   \n",
              "2023-08-03  191.570007  192.369995  190.690002  191.169998  191.169998   \n",
              "2023-08-04  185.520004  187.380005  181.919998  181.990005  181.990005   \n",
              "2023-08-07  182.130005  183.130005  177.350006  178.850006  178.850006   \n",
              "2023-08-08  179.690002  180.270004  177.580002  179.800003  179.800003   \n",
              "2023-08-09  180.869995  180.929993  177.009995  178.190002  178.190002   \n",
              "\n",
              "                volume ticker  \n",
              "1993-07-13   158110400   AAPL  \n",
              "1993-07-14   246299200   AAPL  \n",
              "1993-07-15   338038400   AAPL  \n",
              "1993-07-16  2120596800   AAPL  \n",
              "1993-07-19   806232000   AAPL  \n",
              "...                ...    ...  \n",
              "2023-08-03    61235200   AAPL  \n",
              "2023-08-04   115799700   AAPL  \n",
              "2023-08-07    97576100   AAPL  \n",
              "2023-08-08    67823000   AAPL  \n",
              "2023-08-09    56570198   AAPL  \n",
              "\n",
              "[7574 rows x 7 columns]"
            ],
            "text/html": [
              "\n",
              "\n",
              "  <div id=\"df-ad2fc2d8-23c0-41ed-ace4-920b33f684d5\">\n",
              "    <div class=\"colab-df-container\">\n",
              "      <div>\n",
              "<style scoped>\n",
              "    .dataframe tbody tr th:only-of-type {\n",
              "        vertical-align: middle;\n",
              "    }\n",
              "\n",
              "    .dataframe tbody tr th {\n",
              "        vertical-align: top;\n",
              "    }\n",
              "\n",
              "    .dataframe thead th {\n",
              "        text-align: right;\n",
              "    }\n",
              "</style>\n",
              "<table border=\"1\" class=\"dataframe\">\n",
              "  <thead>\n",
              "    <tr style=\"text-align: right;\">\n",
              "      <th></th>\n",
              "      <th>open</th>\n",
              "      <th>high</th>\n",
              "      <th>low</th>\n",
              "      <th>close</th>\n",
              "      <th>adjclose</th>\n",
              "      <th>volume</th>\n",
              "      <th>ticker</th>\n",
              "    </tr>\n",
              "  </thead>\n",
              "  <tbody>\n",
              "    <tr>\n",
              "      <th>1993-07-13</th>\n",
              "      <td>0.345982</td>\n",
              "      <td>0.345982</td>\n",
              "      <td>0.330357</td>\n",
              "      <td>0.332589</td>\n",
              "      <td>0.273418</td>\n",
              "      <td>158110400</td>\n",
              "      <td>AAPL</td>\n",
              "    </tr>\n",
              "    <tr>\n",
              "      <th>1993-07-14</th>\n",
              "      <td>0.328125</td>\n",
              "      <td>0.334821</td>\n",
              "      <td>0.319196</td>\n",
              "      <td>0.332589</td>\n",
              "      <td>0.273418</td>\n",
              "      <td>246299200</td>\n",
              "      <td>AAPL</td>\n",
              "    </tr>\n",
              "    <tr>\n",
              "      <th>1993-07-15</th>\n",
              "      <td>0.332589</td>\n",
              "      <td>0.337054</td>\n",
              "      <td>0.314732</td>\n",
              "      <td>0.319196</td>\n",
              "      <td>0.262408</td>\n",
              "      <td>338038400</td>\n",
              "      <td>AAPL</td>\n",
              "    </tr>\n",
              "    <tr>\n",
              "      <th>1993-07-16</th>\n",
              "      <td>0.254464</td>\n",
              "      <td>0.264509</td>\n",
              "      <td>0.236607</td>\n",
              "      <td>0.245536</td>\n",
              "      <td>0.201853</td>\n",
              "      <td>2120596800</td>\n",
              "      <td>AAPL</td>\n",
              "    </tr>\n",
              "    <tr>\n",
              "      <th>1993-07-19</th>\n",
              "      <td>0.250000</td>\n",
              "      <td>0.256696</td>\n",
              "      <td>0.227679</td>\n",
              "      <td>0.228795</td>\n",
              "      <td>0.188090</td>\n",
              "      <td>806232000</td>\n",
              "      <td>AAPL</td>\n",
              "    </tr>\n",
              "    <tr>\n",
              "      <th>...</th>\n",
              "      <td>...</td>\n",
              "      <td>...</td>\n",
              "      <td>...</td>\n",
              "      <td>...</td>\n",
              "      <td>...</td>\n",
              "      <td>...</td>\n",
              "      <td>...</td>\n",
              "    </tr>\n",
              "    <tr>\n",
              "      <th>2023-08-03</th>\n",
              "      <td>191.570007</td>\n",
              "      <td>192.369995</td>\n",
              "      <td>190.690002</td>\n",
              "      <td>191.169998</td>\n",
              "      <td>191.169998</td>\n",
              "      <td>61235200</td>\n",
              "      <td>AAPL</td>\n",
              "    </tr>\n",
              "    <tr>\n",
              "      <th>2023-08-04</th>\n",
              "      <td>185.520004</td>\n",
              "      <td>187.380005</td>\n",
              "      <td>181.919998</td>\n",
              "      <td>181.990005</td>\n",
              "      <td>181.990005</td>\n",
              "      <td>115799700</td>\n",
              "      <td>AAPL</td>\n",
              "    </tr>\n",
              "    <tr>\n",
              "      <th>2023-08-07</th>\n",
              "      <td>182.130005</td>\n",
              "      <td>183.130005</td>\n",
              "      <td>177.350006</td>\n",
              "      <td>178.850006</td>\n",
              "      <td>178.850006</td>\n",
              "      <td>97576100</td>\n",
              "      <td>AAPL</td>\n",
              "    </tr>\n",
              "    <tr>\n",
              "      <th>2023-08-08</th>\n",
              "      <td>179.690002</td>\n",
              "      <td>180.270004</td>\n",
              "      <td>177.580002</td>\n",
              "      <td>179.800003</td>\n",
              "      <td>179.800003</td>\n",
              "      <td>67823000</td>\n",
              "      <td>AAPL</td>\n",
              "    </tr>\n",
              "    <tr>\n",
              "      <th>2023-08-09</th>\n",
              "      <td>180.869995</td>\n",
              "      <td>180.929993</td>\n",
              "      <td>177.009995</td>\n",
              "      <td>178.190002</td>\n",
              "      <td>178.190002</td>\n",
              "      <td>56570198</td>\n",
              "      <td>AAPL</td>\n",
              "    </tr>\n",
              "  </tbody>\n",
              "</table>\n",
              "<p>7574 rows × 7 columns</p>\n",
              "</div>\n",
              "      <button class=\"colab-df-convert\" onclick=\"convertToInteractive('df-ad2fc2d8-23c0-41ed-ace4-920b33f684d5')\"\n",
              "              title=\"Convert this dataframe to an interactive table.\"\n",
              "              style=\"display:none;\">\n",
              "\n",
              "  <svg xmlns=\"http://www.w3.org/2000/svg\" height=\"24px\"viewBox=\"0 0 24 24\"\n",
              "       width=\"24px\">\n",
              "    <path d=\"M0 0h24v24H0V0z\" fill=\"none\"/>\n",
              "    <path d=\"M18.56 5.44l.94 2.06.94-2.06 2.06-.94-2.06-.94-.94-2.06-.94 2.06-2.06.94zm-11 1L8.5 8.5l.94-2.06 2.06-.94-2.06-.94L8.5 2.5l-.94 2.06-2.06.94zm10 10l.94 2.06.94-2.06 2.06-.94-2.06-.94-.94-2.06-.94 2.06-2.06.94z\"/><path d=\"M17.41 7.96l-1.37-1.37c-.4-.4-.92-.59-1.43-.59-.52 0-1.04.2-1.43.59L10.3 9.45l-7.72 7.72c-.78.78-.78 2.05 0 2.83L4 21.41c.39.39.9.59 1.41.59.51 0 1.02-.2 1.41-.59l7.78-7.78 2.81-2.81c.8-.78.8-2.07 0-2.86zM5.41 20L4 18.59l7.72-7.72 1.47 1.35L5.41 20z\"/>\n",
              "  </svg>\n",
              "      </button>\n",
              "\n",
              "\n",
              "\n",
              "    <div id=\"df-7d151b05-7310-46bf-b08b-6d7c4ec70e0a\">\n",
              "      <button class=\"colab-df-quickchart\" onclick=\"quickchart('df-7d151b05-7310-46bf-b08b-6d7c4ec70e0a')\"\n",
              "              title=\"Suggest charts.\"\n",
              "              style=\"display:none;\">\n",
              "\n",
              "<svg xmlns=\"http://www.w3.org/2000/svg\" height=\"24px\"viewBox=\"0 0 24 24\"\n",
              "     width=\"24px\">\n",
              "    <g>\n",
              "        <path d=\"M19 3H5c-1.1 0-2 .9-2 2v14c0 1.1.9 2 2 2h14c1.1 0 2-.9 2-2V5c0-1.1-.9-2-2-2zM9 17H7v-7h2v7zm4 0h-2V7h2v10zm4 0h-2v-4h2v4z\"/>\n",
              "    </g>\n",
              "</svg>\n",
              "      </button>\n",
              "    </div>\n",
              "\n",
              "<style>\n",
              "  .colab-df-quickchart {\n",
              "    background-color: #E8F0FE;\n",
              "    border: none;\n",
              "    border-radius: 50%;\n",
              "    cursor: pointer;\n",
              "    display: none;\n",
              "    fill: #1967D2;\n",
              "    height: 32px;\n",
              "    padding: 0 0 0 0;\n",
              "    width: 32px;\n",
              "  }\n",
              "\n",
              "  .colab-df-quickchart:hover {\n",
              "    background-color: #E2EBFA;\n",
              "    box-shadow: 0px 1px 2px rgba(60, 64, 67, 0.3), 0px 1px 3px 1px rgba(60, 64, 67, 0.15);\n",
              "    fill: #174EA6;\n",
              "  }\n",
              "\n",
              "  [theme=dark] .colab-df-quickchart {\n",
              "    background-color: #3B4455;\n",
              "    fill: #D2E3FC;\n",
              "  }\n",
              "\n",
              "  [theme=dark] .colab-df-quickchart:hover {\n",
              "    background-color: #434B5C;\n",
              "    box-shadow: 0px 1px 3px 1px rgba(0, 0, 0, 0.15);\n",
              "    filter: drop-shadow(0px 1px 2px rgba(0, 0, 0, 0.3));\n",
              "    fill: #FFFFFF;\n",
              "  }\n",
              "</style>\n",
              "\n",
              "    <script>\n",
              "      async function quickchart(key) {\n",
              "        const containerElement = document.querySelector('#' + key);\n",
              "        const charts = await google.colab.kernel.invokeFunction(\n",
              "            'suggestCharts', [key], {});\n",
              "      }\n",
              "    </script>\n",
              "\n",
              "      <script>\n",
              "\n",
              "function displayQuickchartButton(domScope) {\n",
              "  let quickchartButtonEl =\n",
              "    domScope.querySelector('#df-7d151b05-7310-46bf-b08b-6d7c4ec70e0a button.colab-df-quickchart');\n",
              "  quickchartButtonEl.style.display =\n",
              "    google.colab.kernel.accessAllowed ? 'block' : 'none';\n",
              "}\n",
              "\n",
              "        displayQuickchartButton(document);\n",
              "      </script>\n",
              "      <style>\n",
              "    .colab-df-container {\n",
              "      display:flex;\n",
              "      flex-wrap:wrap;\n",
              "      gap: 12px;\n",
              "    }\n",
              "\n",
              "    .colab-df-convert {\n",
              "      background-color: #E8F0FE;\n",
              "      border: none;\n",
              "      border-radius: 50%;\n",
              "      cursor: pointer;\n",
              "      display: none;\n",
              "      fill: #1967D2;\n",
              "      height: 32px;\n",
              "      padding: 0 0 0 0;\n",
              "      width: 32px;\n",
              "    }\n",
              "\n",
              "    .colab-df-convert:hover {\n",
              "      background-color: #E2EBFA;\n",
              "      box-shadow: 0px 1px 2px rgba(60, 64, 67, 0.3), 0px 1px 3px 1px rgba(60, 64, 67, 0.15);\n",
              "      fill: #174EA6;\n",
              "    }\n",
              "\n",
              "    [theme=dark] .colab-df-convert {\n",
              "      background-color: #3B4455;\n",
              "      fill: #D2E3FC;\n",
              "    }\n",
              "\n",
              "    [theme=dark] .colab-df-convert:hover {\n",
              "      background-color: #434B5C;\n",
              "      box-shadow: 0px 1px 3px 1px rgba(0, 0, 0, 0.15);\n",
              "      filter: drop-shadow(0px 1px 2px rgba(0, 0, 0, 0.3));\n",
              "      fill: #FFFFFF;\n",
              "    }\n",
              "  </style>\n",
              "\n",
              "      <script>\n",
              "        const buttonEl =\n",
              "          document.querySelector('#df-ad2fc2d8-23c0-41ed-ace4-920b33f684d5 button.colab-df-convert');\n",
              "        buttonEl.style.display =\n",
              "          google.colab.kernel.accessAllowed ? 'block' : 'none';\n",
              "\n",
              "        async function convertToInteractive(key) {\n",
              "          const element = document.querySelector('#df-ad2fc2d8-23c0-41ed-ace4-920b33f684d5');\n",
              "          const dataTable =\n",
              "            await google.colab.kernel.invokeFunction('convertToInteractive',\n",
              "                                                     [key], {});\n",
              "          if (!dataTable) return;\n",
              "\n",
              "          const docLinkHtml = 'Like what you see? Visit the ' +\n",
              "            '<a target=\"_blank\" href=https://colab.research.google.com/notebooks/data_table.ipynb>data table notebook</a>'\n",
              "            + ' to learn more about interactive tables.';\n",
              "          element.innerHTML = '';\n",
              "          dataTable['output_type'] = 'display_data';\n",
              "          await google.colab.output.renderOutput(dataTable, element);\n",
              "          const docLink = document.createElement('div');\n",
              "          docLink.innerHTML = docLinkHtml;\n",
              "          element.appendChild(docLink);\n",
              "        }\n",
              "      </script>\n",
              "    </div>\n",
              "  </div>\n"
            ]
          },
          "metadata": {},
          "execution_count": 39
        }
      ]
    },
    {
      "cell_type": "markdown",
      "source": [
        "**RSI**"
      ],
      "metadata": {
        "id": "tJU4zoR387Hh"
      }
    },
    {
      "cell_type": "code",
      "source": [
        "historical_datas['AAPL']['RSI'] = ta.RSI(historical_datas['AAPL']['close'])"
      ],
      "metadata": {
        "id": "dKZF6fAY8_Um"
      },
      "execution_count": 40,
      "outputs": []
    },
    {
      "cell_type": "code",
      "source": [
        "fig, axs = plt.subplots(2, 1, gridspec_kw={\"height_ratios\":[3,1]}, figsize=(10, 6))\n",
        "\n",
        "axs[0].plot(historical_datas['AAPL']['close'])\n",
        "axs[1].axhline(y=70, color='r', linestyle='--')\n",
        "axs[1].axhline(y=30, color='g', linestyle='--')\n",
        "axs[1].plot(historical_datas['AAPL']['RSI'], color='orange')"
      ],
      "metadata": {
        "colab": {
          "base_uri": "https://localhost:8080/",
          "height": 540
        },
        "id": "2jykNhfnBGYr",
        "outputId": "e3122c86-8d01-45e2-a3f2-6d5d7f0bfbc1"
      },
      "execution_count": 51,
      "outputs": [
        {
          "output_type": "execute_result",
          "data": {
            "text/plain": [
              "[<matplotlib.lines.Line2D at 0x78902bbe3010>]"
            ]
          },
          "metadata": {},
          "execution_count": 51
        },
        {
          "output_type": "display_data",
          "data": {
            "text/plain": [
              "<Figure size 1000x600 with 2 Axes>"
            ],
            "image/png": "[encoded data removed]"
          },
          "metadata": {}
        }
      ]
    },
    {
      "cell_type": "code",
      "source": [
        "historical_datas['AAPL']['RSI'].head(15)"
      ],
      "metadata": {
        "id": "tkPd88xZGqg8"
      },
      "execution_count": null,
      "outputs": []
    },
    {
      "cell_type": "code",
      "source": [
        "historical_datas['AAPL']['RSI_signal'] = 'HOLD'  # Inicjalizacja sygnałów na 'HOLD'\n",
        "\n",
        "rsi_values = historical_datas['AAPL']['RSI']\n",
        "rsi_signals = []\n",
        "\n",
        "#Dopisanie sygnałów do kolumny RSI_signals\n",
        "for rsi in rsi_values:\n",
        "    if rsi < 30:\n",
        "        rsi_signals.append('BUY')\n",
        "    elif rsi > 70:\n",
        "        rsi_signals.append('SELL')\n",
        "    else:\n",
        "        rsi_signals.append('HOLD')\n",
        "\n",
        "historical_datas['AAPL']['RSI_signal'] = rsi_signals\n"
      ],
      "metadata": {
        "id": "aSVEFMJhFelk"
      },
      "execution_count": null,
      "outputs": []
    },
    {
      "cell_type": "code",
      "source": [
        "historical_datas['AAPL'].tail(30)"
      ],
      "metadata": {
        "id": "M2W4qK7WHvMy"
      },
      "execution_count": null,
      "outputs": []
    },
    {
      "cell_type": "code",
      "source": [],
      "metadata": {
        "id": "2ejJWUEMK14y"
      },
      "execution_count": null,
      "outputs": []
    },
    {
      "cell_type": "code",
      "source": [],
      "metadata": {
        "id": "rbyOExMsKU9Y"
      },
      "execution_count": null,
      "outputs": []
    }
  ]
}