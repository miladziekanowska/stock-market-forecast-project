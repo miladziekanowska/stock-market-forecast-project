{
  "nbformat": 4,
  "nbformat_minor": 0,
  "metadata": {
    "colab": {
      "provenance": [],
      "authorship_tag": "ABX9TyMdRADCByAe+VuZ85e6sMfC",
      "include_colab_link": true
    },
    "kernelspec": {
      "name": "python3",
      "display_name": "Python 3"
    },
    "language_info": {
      "name": "python"
    }
  },
  "cells": [
    {
      "cell_type": "markdown",
      "metadata": {
        "id": "view-in-github",
        "colab_type": "text"
      },
      "source": [
        "<a href=\"https://colab.research.google.com/github/miladziekanowska/stock-market-forecast-project/blob/main/Technical_Analysis.ipynb\" target=\"_parent\"><img src=\"https://colab.research.google.com/assets/colab-badge.svg\" alt=\"Open In Colab\"/></a>"
      ]
    },
    {
      "cell_type": "markdown",
      "source": [
        "**Installing libraries and fixing problems with Talib ;)**"
      ],
      "metadata": {
        "id": "1oirpHm49DQ9"
      }
    },
    {
      "cell_type": "code",
      "source": [
        "!wget http://prdownloads.sourceforge.net/ta-lib/ta-lib-0.4.0-src.tar.gz\n",
        "!tar xvzf ta-lib-0.4.0-src.tar.gz\n",
        "import os\n",
        "os.chdir('ta-lib')\n",
        "!./configure --prefix=/usr\n",
        "!make\n",
        "!sudo make install\n",
        "os.chdir('../')\n",
        "!pip install TA-Lib"
      ],
      "metadata": {
        "id": "Zl9YilNP4Teg"
      },
      "execution_count": null,
      "outputs": []
    },
    {
      "cell_type": "code",
      "source": [
        "pip install Yahoo_fin\n"
      ],
      "metadata": {
        "id": "qlpEbLzD6hPq"
      },
      "execution_count": null,
      "outputs": []
    },
    {
      "cell_type": "code",
      "source": [
        "import datetime as dt\n",
        "import pandas as pd\n",
        "import numpy as np\n",
        "import yahoo_fin.stock_info as yh\n",
        "import talib as ta\n",
        "import matplotlib.pyplot as plt\n",
        "import pandas_datareader as web\n",
        "import matplotlib.dates as mdates\n",
        "pd.set_option('display.max_columns', 20)"
      ],
      "metadata": {
        "id": "bNPWKpQT8mnw"
      },
      "execution_count": 3,
      "outputs": []
    },
    {
      "cell_type": "code",
      "source": [
        "ticker_list = yh.tickers_dow()\n",
        "historical_datas = {}\n",
        "for ticker in ticker_list:\n",
        "    historical_datas[ticker] = yh.get_data(ticker, start_date=\"01/01/1993\", end_date='now', index_as_date = True, interval=\"1d\")"
      ],
      "metadata": {
        "id": "R8wHNDW-91sp"
      },
      "execution_count": null,
      "outputs": []
    },
    {
      "cell_type": "code",
      "source": [
        "historical_datas['AAPL']"
      ],
      "metadata": {
        "id": "ycxT8Va29_5a"
      },
      "execution_count": null,
      "outputs": []
    },
    {
      "cell_type": "markdown",
      "source": [
        "**RSI**"
      ],
      "metadata": {
        "id": "tJU4zoR387Hh"
      }
    },
    {
      "cell_type": "code",
      "source": [
        "historical_datas['AAPL']['RSI'] = ta.RSI(historical_datas['AAPL']['close'].tail(400))"
      ],
      "metadata": {
        "id": "dKZF6fAY8_Um"
      },
      "execution_count": 34,
      "outputs": []
    },
    {
      "cell_type": "code",
      "source": [
        "fig, axs = plt.subplots(2, 1, gridspec_kw={\"height_ratios\":[3,1]}, figsize=(10, 6))\n",
        "\n",
        "axs[0].plot(historical_datas['AAPL']['close'].tail(400))\n",
        "axs[1].axhline(y=70, color='r', linestyle='--')\n",
        "axs[1].axhline(y=30, color='g', linestyle='--')\n",
        "axs[1].plot(historical_datas['AAPL']['RSI'].tail(400), color='orange')"
      ],
      "metadata": {
        "id": "2jykNhfnBGYr"
      },
      "execution_count": null,
      "outputs": []
    },
    {
      "cell_type": "code",
      "source": [
        "historical_datas['AAPL']['RSI_signal'] = 'HOLD'  # Inicjalizacja sygnałów na 'HOLD'\n",
        "\n",
        "rsi_values = historical_datas['AAPL']['RSI']\n",
        "rsi_signals = []\n",
        "\n",
        "#Dopisanie sygnałów do kolumny RSI_signals\n",
        "for rsi in rsi_values:\n",
        "    if rsi < 30:\n",
        "        rsi_signals.append('BUY')\n",
        "    elif rsi > 70:\n",
        "        rsi_signals.append('SELL')\n",
        "    else:\n",
        "        rsi_signals.append('HOLD')\n",
        "\n",
        "historical_datas['AAPL']['RSI_signal'] = rsi_signals\n"
      ],
      "metadata": {
        "id": "aSVEFMJhFelk"
      },
      "execution_count": 36,
      "outputs": []
    },
    {
      "cell_type": "code",
      "source": [
        "historical_datas['AAPL'].tail(30)"
      ],
      "metadata": {
        "id": "M2W4qK7WHvMy"
      },
      "execution_count": null,
      "outputs": []
    },
    {
      "cell_type": "markdown",
      "source": [
        "**MACD**"
      ],
      "metadata": {
        "id": "nJZphbfRNDxi"
      }
    },
    {
      "cell_type": "code",
      "source": [
        "historical_datas['AAPL']['MACD'], historical_datas['AAPL']['MACD_signalline'], macd_hist = ta.MACD(historical_datas['AAPL']['close'].tail(400))\n",
        "\n",
        "fig, axs = plt.subplots(2, 1, gridspec_kw={\"height_ratios\":[3,1]}, figsize=(10, 6))\n",
        "\n",
        "c = [\"red\" if cl < 0 else \"green\" for cl in macd_hist]\n",
        "\n",
        "axs[0].plot(historical_datas['AAPL']['close'].tail(400))\n",
        "axs[1].plot(historical_datas['AAPL']['MACD'], 'b-')\n",
        "axs[1].plot(historical_datas['AAPL']['MACD_signalline'], 'b-', color='red')\n",
        "axs[1].bar(macd_hist.index, macd_hist, color=c)"
      ],
      "metadata": {
        "id": "g9vKaFi4QchF"
      },
      "execution_count": null,
      "outputs": []
    },
    {
      "cell_type": "code",
      "source": [
        "historical_datas['AAPL'].tail(50)"
      ],
      "metadata": {
        "id": "ACqqTWTOnM0z"
      },
      "execution_count": null,
      "outputs": []
    },
    {
      "cell_type": "code",
      "source": [
        "\n",
        "signals = []\n",
        "position = 'HOLD'\n",
        "\n",
        "for i in range(len(historical_datas['AAPL'])):\n",
        "    if i == 0:\n",
        "        signals.append(position)\n",
        "    else:\n",
        "        if historical_datas['AAPL']['MACD'][i] > historical_datas['AAPL']['MACD_signalline'][i] and historical_datas['AAPL']['MACD'][i - 1] <= historical_datas['AAPL']['MACD_signalline'][i - 1]:\n",
        "            position = 'BUY'\n",
        "        elif historical_datas['AAPL']['MACD'][i] < historical_datas['AAPL']['MACD_signalline'][i] and historical_datas['AAPL']['MACD'][i - 1] >= historical_datas['AAPL']['MACD_signalline'][i - 1]:\n",
        "            position = 'SELL'\n",
        "        else:\n",
        "            position = 'HOLD'\n",
        "\n",
        "        signals.append(position)\n",
        "\n",
        "historical_datas['AAPL']['MACD_signal'] = signals\n"
      ],
      "metadata": {
        "id": "HMrp8OTQkyhR"
      },
      "execution_count": 40,
      "outputs": []
    },
    {
      "cell_type": "markdown",
      "source": [
        "**Williams %R**"
      ],
      "metadata": {
        "id": "DTytT5jNeshl"
      }
    },
    {
      "cell_type": "code",
      "source": [
        "historical_datas['AAPL']['WillR'] = ta.WILLR(historical_datas['AAPL']['high'], historical_datas['AAPL']['low'], historical_datas['AAPL']['close'])"
      ],
      "metadata": {
        "id": "29avBa6wer00"
      },
      "execution_count": 41,
      "outputs": []
    },
    {
      "cell_type": "code",
      "source": [
        "fig, axs = plt.subplots(2, 1, gridspec_kw={\"height_ratios\":[3,1]}, figsize=(10, 6))\n",
        "\n",
        "axs[0].plot(historical_datas['AAPL']['close'].tail(200))\n",
        "axs[1].axhline(y=-80, color='r', linestyle='--')\n",
        "axs[1].axhline(y=-20, color='g', linestyle='--')\n",
        "axs[1].plot(historical_datas['AAPL']['WillR'].tail(200), color='orange')"
      ],
      "metadata": {
        "id": "_Y273NjlfDwn"
      },
      "execution_count": null,
      "outputs": []
    },
    {
      "cell_type": "code",
      "source": [
        "historical_datas['AAPL']['WillR_signal'] = 'HOLD'\n",
        "\n",
        "willr_values = historical_datas['AAPL']['WillR']\n",
        "willr_signals = []\n",
        "\n",
        "\n",
        "for willr in willr_values:\n",
        "    if willr < -80:\n",
        "        willr_signals.append('BUY')\n",
        "    elif willr > -20:\n",
        "        willr_signals.append('SELL')\n",
        "    else:\n",
        "        willr_signals.append('HOLD')\n",
        "\n",
        "historical_datas['AAPL']['WillR_signal'] = willr_signals"
      ],
      "metadata": {
        "id": "hCbSMJU9mCOx"
      },
      "execution_count": 43,
      "outputs": []
    },
    {
      "cell_type": "code",
      "source": [
        "historical_datas['AAPL'].tail(50)"
      ],
      "metadata": {
        "id": "N0Ul2hXviPC4"
      },
      "execution_count": null,
      "outputs": []
    },
    {
      "cell_type": "markdown",
      "source": [
        "**CCI**"
      ],
      "metadata": {
        "id": "VGJetoyhxBaq"
      }
    },
    {
      "cell_type": "code",
      "source": [
        "historical_datas['AAPL']['CCI'] = ta.CCI(historical_datas['AAPL']['high'], historical_datas['AAPL']['low'], historical_datas['AAPL']['close'])"
      ],
      "metadata": {
        "id": "B7Wko7AKvuO0"
      },
      "execution_count": 45,
      "outputs": []
    },
    {
      "cell_type": "code",
      "source": [
        "fig, axs = plt.subplots(2, 1, gridspec_kw={\"height_ratios\":[3,1]}, figsize=(10, 6))\n",
        "\n",
        "axs[0].plot(historical_datas['AAPL']['close'].tail(200))\n",
        "axs[1].axhline(y=200, color='r', linestyle='--')\n",
        "axs[1].axhline(y=-200, color='g', linestyle='--')\n",
        "axs[1].plot(historical_datas['AAPL']['CCI'].tail(200), color='orange')"
      ],
      "metadata": {
        "id": "8LvsxBDSxGlv"
      },
      "execution_count": null,
      "outputs": []
    },
    {
      "cell_type": "code",
      "source": [
        "historical_datas['AAPL']['CCI_signals'] = 'HOLD'\n",
        "\n",
        "cci_values = historical_datas['AAPL']['CCI']\n",
        "cci_signals = []\n",
        "\n",
        "\n",
        "for cci in cci_values:\n",
        "    if cci > 200 :\n",
        "        cci_signals.append('BUY')\n",
        "    elif cci < -200:\n",
        "        cci_signals.append('SELL')\n",
        "    else:\n",
        "        cci_signals.append('HOLD')\n",
        "\n",
        "historical_datas['AAPL']['CCI_signals'] = cci_signals"
      ],
      "metadata": {
        "id": "Rzl51oXVxz5O"
      },
      "execution_count": 47,
      "outputs": []
    },
    {
      "cell_type": "markdown",
      "source": [
        "**BOP**"
      ],
      "metadata": {
        "id": "mSPg6tLj_9rc"
      }
    },
    {
      "cell_type": "code",
      "source": [
        "historical_datas['AAPL']['BOP'] = ta.BOP(historical_datas['AAPL']['open'], historical_datas['AAPL']['high'], historical_datas['AAPL']['low'], historical_datas['AAPL']['close'])"
      ],
      "metadata": {
        "id": "nyd5xSbW6Guu"
      },
      "execution_count": 48,
      "outputs": []
    },
    {
      "cell_type": "code",
      "source": [
        "fig, axs = plt.subplots(2, 1, gridspec_kw={\"height_ratios\":[3,1]}, figsize=(10, 6))\n",
        "\n",
        "axs[0].plot(historical_datas['AAPL']['close'].tail(200))\n",
        "axs[1].axhline(y=0, color='g', linestyle='--')\n",
        "axs[1].plot(historical_datas['AAPL']['BOP'].tail(200), color='orange')"
      ],
      "metadata": {
        "id": "iRpB4qLe-RDA"
      },
      "execution_count": null,
      "outputs": []
    },
    {
      "cell_type": "code",
      "source": [
        "historical_datas['AAPL']['BOP_signals'] = 'HOLD'\n",
        "\n",
        "bop_values = historical_datas['AAPL']['BOP']\n",
        "bop_signals = []\n",
        "\n",
        "\n",
        "for bop in bop_values:\n",
        "    if bop > 0 :\n",
        "        bop_signals.append('BUY')\n",
        "    elif bop < 0:\n",
        "        bop_signals.append('SELL')\n",
        "    else:\n",
        "        bop_signals.append('HOLD')\n",
        "\n",
        "historical_datas['AAPL']['BOP_signals'] = bop_signals"
      ],
      "metadata": {
        "id": "VTJivLPN-8-l"
      },
      "execution_count": 50,
      "outputs": []
    },
    {
      "cell_type": "code",
      "source": [
        "historical_datas['AAPL'].tail(50)"
      ],
      "metadata": {
        "id": "Qm0oroWl-Bzz"
      },
      "execution_count": null,
      "outputs": []
    },
    {
      "cell_type": "code",
      "source": [
        "def calculate_signals_for_symbol(symbol):\n",
        "    historical_data = yh.get_data(symbol, start_date=\"01/01/1993\", end_date='now', index_as_date=True, interval=\"1d\")\n",
        "\n",
        "    historical_data['RSI'] = ta.RSI(historical_data['close'].tail(400))\n",
        "\n",
        "    historical_data['RSI_signal'] = 'HOLD'\n",
        "    rsi_signals = []\n",
        "\n",
        "    for rsi in historical_data['RSI']:\n",
        "        if rsi < 30:\n",
        "            rsi_signals.append('BUY')\n",
        "        elif rsi > 70:\n",
        "            rsi_signals.append('SELL')\n",
        "        else:\n",
        "            rsi_signals.append('HOLD')\n",
        "\n",
        "    historical_data['RSI_signal'] = rsi_signals\n",
        "\n",
        "    historical_data['MACD'], historical_data['MACD_signalline'], macd_hist = ta.MACD(historical_data['close'].tail(400))\n",
        "    signals = []\n",
        "    position = 'HOLD'\n",
        "\n",
        "    for i in range(len(historical_data)):\n",
        "        if i == 0:\n",
        "            signals.append(position)\n",
        "        else:\n",
        "            if historical_data['MACD'][i] > historical_data['MACD_signalline'][i] and historical_data['MACD'][i - 1] <= historical_data['MACD_signalline'][i - 1]:\n",
        "                position = 'BUY'\n",
        "            elif historical_data['MACD'][i] < historical_data['MACD_signalline'][i] and historical_data['MACD'][i - 1] >= historical_data['MACD_signalline'][i - 1]:\n",
        "                position = 'SELL'\n",
        "            else:\n",
        "                position = 'HOLD'\n",
        "\n",
        "            signals.append(position)\n",
        "\n",
        "    historical_data['MACD_signal'] = signals\n",
        "\n",
        "    historical_data['WillR'] = ta.WILLR(historical_data['high'], historical_data['low'], historical_data['close'])\n",
        "    historical_data['WillR_signal'] = 'HOLD'\n",
        "    willr_signals = []\n",
        "\n",
        "    for willr in historical_data['WillR']:\n",
        "        if willr < -80:\n",
        "            willr_signals.append('BUY')\n",
        "        elif willr > -20:\n",
        "            willr_signals.append('SELL')\n",
        "        else:\n",
        "            willr_signals.append('HOLD')\n",
        "\n",
        "    historical_data['WillR_signal'] = willr_signals\n",
        "\n",
        "    historical_data['CCI'] = ta.CCI(historical_data['high'], historical_data['low'], historical_data['close'])\n",
        "    historical_data['CCI_signals'] = 'HOLD'\n",
        "    cci_signals = []\n",
        "\n",
        "    for cci in historical_data['CCI']:\n",
        "        if cci > 200:\n",
        "            cci_signals.append('BUY')\n",
        "        elif cci < -200:\n",
        "            cci_signals.append('SELL')\n",
        "        else:\n",
        "            cci_signals.append('HOLD')\n",
        "\n",
        "    historical_data['CCI_signals'] = cci_signals\n",
        "\n",
        "    historical_data['BOP'] = ta.BOP(historical_data['open'], historical_data['high'], historical_data['low'], historical_data['close'])\n",
        "    historical_data['BOP_signals'] = 'HOLD'\n",
        "    bop_signals = []\n",
        "\n",
        "    for bop in historical_data['BOP']:\n",
        "        if bop > 0:\n",
        "            bop_signals.append('BUY')\n",
        "        elif bop < 0:\n",
        "            bop_signals.append('SELL')\n",
        "        else:\n",
        "            bop_signals.append('HOLD')\n",
        "\n",
        "    historical_data['BOP_signals'] = bop_signals\n",
        "\n",
        "    return historical_data\n",
        "\n",
        "ticker_list = yh.tickers_dow()\n",
        "historical_datas = {}\n",
        "\n",
        "for ticker in ticker_list:\n",
        "    historical_datas[ticker] = calculate_signals_for_symbol(ticker)"
      ],
      "metadata": {
        "id": "50HOmcRLIZME"
      },
      "execution_count": 52,
      "outputs": []
    },
    {
      "cell_type": "code",
      "source": [
        "historical_datas['V']"
      ],
      "metadata": {
        "colab": {
          "base_uri": "https://localhost:8080/",
          "height": 617
        },
        "id": "T0udCBWdImhm",
        "outputId": "a38e8560-7167-4807-86e4-3a2c19490637"
      },
      "execution_count": 60,
      "outputs": [
        {
          "output_type": "execute_result",
          "data": {
            "text/plain": [
              "                  open        high         low       close    adjclose  \\\n",
              "2008-03-19   14.875000   17.250000   13.750000   14.125000   12.679029   \n",
              "2008-03-20   14.600000   16.250000   14.375000   16.087500   14.440630   \n",
              "2008-03-24   16.809999   16.924999   14.750000   14.932500   13.403866   \n",
              "2008-03-25   15.145000   16.062500   14.955000   15.812500   14.193782   \n",
              "2008-03-26   15.682500   16.120001   15.392500   15.990000   14.353113   \n",
              "...                ...         ...         ...         ...         ...   \n",
              "2023-08-15  242.009995  242.669998  239.350006  239.830002  239.830002   \n",
              "2023-08-16  236.529999  241.070007  236.020004  239.289993  239.289993   \n",
              "2023-08-17  240.000000  240.380005  236.490005  237.369995  237.369995   \n",
              "2023-08-18  235.580002  239.050003  235.300003  238.169998  238.169998   \n",
              "2023-08-21  239.380005  240.369995  237.789993  238.990005  238.990005   \n",
              "\n",
              "               volume ticker        RSI RSI_signal      MACD  MACD_signalline  \\\n",
              "2008-03-19  708486000      V        NaN       HOLD       NaN              NaN   \n",
              "2008-03-20  198985200      V        NaN       HOLD       NaN              NaN   \n",
              "2008-03-24  149566400      V        NaN       HOLD       NaN              NaN   \n",
              "2008-03-25   87092000      V        NaN       HOLD       NaN              NaN   \n",
              "2008-03-26   43111600      V        NaN       HOLD       NaN              NaN   \n",
              "...               ...    ...        ...        ...       ...              ...   \n",
              "2023-08-15    3770100      V  53.038524       HOLD  1.264748         1.336310   \n",
              "2023-08-16    3218600      V  51.743521       HOLD  1.123287         1.293705   \n",
              "2023-08-17    4177600      V  47.319622       HOLD  0.846492         1.204263   \n",
              "2023-08-18    4344800      V  49.265986       HOLD  0.683802         1.100171   \n",
              "2023-08-21    1678841      V  51.254024       HOLD  0.613959         1.002928   \n",
              "\n",
              "           MACD_signal      WillR WillR_signal         CCI CCI_signals  \\\n",
              "2008-03-19        HOLD        NaN         HOLD         NaN        HOLD   \n",
              "2008-03-20        HOLD        NaN         HOLD         NaN        HOLD   \n",
              "2008-03-24        HOLD        NaN         HOLD         NaN        HOLD   \n",
              "2008-03-25        HOLD        NaN         HOLD         NaN        HOLD   \n",
              "2008-03-26        HOLD        NaN         HOLD         NaN        HOLD   \n",
              "...                ...        ...          ...         ...         ...   \n",
              "2023-08-15        SELL -37.488615         HOLD   61.263458        HOLD   \n",
              "2023-08-16        HOLD -45.507892         HOLD  -23.474879        HOLD   \n",
              "2023-08-17        HOLD -75.632231         HOLD  -79.557688        HOLD   \n",
              "2023-08-18        HOLD -66.436791         HOLD -112.953521        HOLD   \n",
              "2023-08-21        HOLD -57.011416         HOLD  -25.321418        HOLD   \n",
              "\n",
              "                 BOP BOP_signals  \n",
              "2008-03-19 -0.214286        SELL  \n",
              "2008-03-20  0.793333         BUY  \n",
              "2008-03-24 -0.863219        SELL  \n",
              "2008-03-25  0.602708         BUY  \n",
              "2008-03-26  0.422680         BUY  \n",
              "...              ...         ...  \n",
              "2023-08-15 -0.656626        SELL  \n",
              "2023-08-16  0.546533         BUY  \n",
              "2023-08-17 -0.676094        SELL  \n",
              "2023-08-18  0.690666         BUY  \n",
              "2023-08-21 -0.151162        SELL  \n",
              "\n",
              "[3883 rows x 18 columns]"
            ],
            "text/html": [
              "\n",
              "  <div id=\"df-286a3b3c-5f45-45e5-ad35-92d12767146f\" class=\"colab-df-container\">\n",
              "    <div>\n",
              "<style scoped>\n",
              "    .dataframe tbody tr th:only-of-type {\n",
              "        vertical-align: middle;\n",
              "    }\n",
              "\n",
              "    .dataframe tbody tr th {\n",
              "        vertical-align: top;\n",
              "    }\n",
              "\n",
              "    .dataframe thead th {\n",
              "        text-align: right;\n",
              "    }\n",
              "</style>\n",
              "<table border=\"1\" class=\"dataframe\">\n",
              "  <thead>\n",
              "    <tr style=\"text-align: right;\">\n",
              "      <th></th>\n",
              "      <th>open</th>\n",
              "      <th>high</th>\n",
              "      <th>low</th>\n",
              "      <th>close</th>\n",
              "      <th>adjclose</th>\n",
              "      <th>volume</th>\n",
              "      <th>ticker</th>\n",
              "      <th>RSI</th>\n",
              "      <th>RSI_signal</th>\n",
              "      <th>MACD</th>\n",
              "      <th>MACD_signalline</th>\n",
              "      <th>MACD_signal</th>\n",
              "      <th>WillR</th>\n",
              "      <th>WillR_signal</th>\n",
              "      <th>CCI</th>\n",
              "      <th>CCI_signals</th>\n",
              "      <th>BOP</th>\n",
              "      <th>BOP_signals</th>\n",
              "    </tr>\n",
              "  </thead>\n",
              "  <tbody>\n",
              "    <tr>\n",
              "      <th>2008-03-19</th>\n",
              "      <td>14.875000</td>\n",
              "      <td>17.250000</td>\n",
              "      <td>13.750000</td>\n",
              "      <td>14.125000</td>\n",
              "      <td>12.679029</td>\n",
              "      <td>708486000</td>\n",
              "      <td>V</td>\n",
              "      <td>NaN</td>\n",
              "      <td>HOLD</td>\n",
              "      <td>NaN</td>\n",
              "      <td>NaN</td>\n",
              "      <td>HOLD</td>\n",
              "      <td>NaN</td>\n",
              "      <td>HOLD</td>\n",
              "      <td>NaN</td>\n",
              "      <td>HOLD</td>\n",
              "      <td>-0.214286</td>\n",
              "      <td>SELL</td>\n",
              "    </tr>\n",
              "    <tr>\n",
              "      <th>2008-03-20</th>\n",
              "      <td>14.600000</td>\n",
              "      <td>16.250000</td>\n",
              "      <td>14.375000</td>\n",
              "      <td>16.087500</td>\n",
              "      <td>14.440630</td>\n",
              "      <td>198985200</td>\n",
              "      <td>V</td>\n",
              "      <td>NaN</td>\n",
              "      <td>HOLD</td>\n",
              "      <td>NaN</td>\n",
              "      <td>NaN</td>\n",
              "      <td>HOLD</td>\n",
              "      <td>NaN</td>\n",
              "      <td>HOLD</td>\n",
              "      <td>NaN</td>\n",
              "      <td>HOLD</td>\n",
              "      <td>0.793333</td>\n",
              "      <td>BUY</td>\n",
              "    </tr>\n",
              "    <tr>\n",
              "      <th>2008-03-24</th>\n",
              "      <td>16.809999</td>\n",
              "      <td>16.924999</td>\n",
              "      <td>14.750000</td>\n",
              "      <td>14.932500</td>\n",
              "      <td>13.403866</td>\n",
              "      <td>149566400</td>\n",
              "      <td>V</td>\n",
              "      <td>NaN</td>\n",
              "      <td>HOLD</td>\n",
              "      <td>NaN</td>\n",
              "      <td>NaN</td>\n",
              "      <td>HOLD</td>\n",
              "      <td>NaN</td>\n",
              "      <td>HOLD</td>\n",
              "      <td>NaN</td>\n",
              "      <td>HOLD</td>\n",
              "      <td>-0.863219</td>\n",
              "      <td>SELL</td>\n",
              "    </tr>\n",
              "    <tr>\n",
              "      <th>2008-03-25</th>\n",
              "      <td>15.145000</td>\n",
              "      <td>16.062500</td>\n",
              "      <td>14.955000</td>\n",
              "      <td>15.812500</td>\n",
              "      <td>14.193782</td>\n",
              "      <td>87092000</td>\n",
              "      <td>V</td>\n",
              "      <td>NaN</td>\n",
              "      <td>HOLD</td>\n",
              "      <td>NaN</td>\n",
              "      <td>NaN</td>\n",
              "      <td>HOLD</td>\n",
              "      <td>NaN</td>\n",
              "      <td>HOLD</td>\n",
              "      <td>NaN</td>\n",
              "      <td>HOLD</td>\n",
              "      <td>0.602708</td>\n",
              "      <td>BUY</td>\n",
              "    </tr>\n",
              "    <tr>\n",
              "      <th>2008-03-26</th>\n",
              "      <td>15.682500</td>\n",
              "      <td>16.120001</td>\n",
              "      <td>15.392500</td>\n",
              "      <td>15.990000</td>\n",
              "      <td>14.353113</td>\n",
              "      <td>43111600</td>\n",
              "      <td>V</td>\n",
              "      <td>NaN</td>\n",
              "      <td>HOLD</td>\n",
              "      <td>NaN</td>\n",
              "      <td>NaN</td>\n",
              "      <td>HOLD</td>\n",
              "      <td>NaN</td>\n",
              "      <td>HOLD</td>\n",
              "      <td>NaN</td>\n",
              "      <td>HOLD</td>\n",
              "      <td>0.422680</td>\n",
              "      <td>BUY</td>\n",
              "    </tr>\n",
              "    <tr>\n",
              "      <th>...</th>\n",
              "      <td>...</td>\n",
              "      <td>...</td>\n",
              "      <td>...</td>\n",
              "      <td>...</td>\n",
              "      <td>...</td>\n",
              "      <td>...</td>\n",
              "      <td>...</td>\n",
              "      <td>...</td>\n",
              "      <td>...</td>\n",
              "      <td>...</td>\n",
              "      <td>...</td>\n",
              "      <td>...</td>\n",
              "      <td>...</td>\n",
              "      <td>...</td>\n",
              "      <td>...</td>\n",
              "      <td>...</td>\n",
              "      <td>...</td>\n",
              "      <td>...</td>\n",
              "    </tr>\n",
              "    <tr>\n",
              "      <th>2023-08-15</th>\n",
              "      <td>242.009995</td>\n",
              "      <td>242.669998</td>\n",
              "      <td>239.350006</td>\n",
              "      <td>239.830002</td>\n",
              "      <td>239.830002</td>\n",
              "      <td>3770100</td>\n",
              "      <td>V</td>\n",
              "      <td>53.038524</td>\n",
              "      <td>HOLD</td>\n",
              "      <td>1.264748</td>\n",
              "      <td>1.336310</td>\n",
              "      <td>SELL</td>\n",
              "      <td>-37.488615</td>\n",
              "      <td>HOLD</td>\n",
              "      <td>61.263458</td>\n",
              "      <td>HOLD</td>\n",
              "      <td>-0.656626</td>\n",
              "      <td>SELL</td>\n",
              "    </tr>\n",
              "    <tr>\n",
              "      <th>2023-08-16</th>\n",
              "      <td>236.529999</td>\n",
              "      <td>241.070007</td>\n",
              "      <td>236.020004</td>\n",
              "      <td>239.289993</td>\n",
              "      <td>239.289993</td>\n",
              "      <td>3218600</td>\n",
              "      <td>V</td>\n",
              "      <td>51.743521</td>\n",
              "      <td>HOLD</td>\n",
              "      <td>1.123287</td>\n",
              "      <td>1.293705</td>\n",
              "      <td>HOLD</td>\n",
              "      <td>-45.507892</td>\n",
              "      <td>HOLD</td>\n",
              "      <td>-23.474879</td>\n",
              "      <td>HOLD</td>\n",
              "      <td>0.546533</td>\n",
              "      <td>BUY</td>\n",
              "    </tr>\n",
              "    <tr>\n",
              "      <th>2023-08-17</th>\n",
              "      <td>240.000000</td>\n",
              "      <td>240.380005</td>\n",
              "      <td>236.490005</td>\n",
              "      <td>237.369995</td>\n",
              "      <td>237.369995</td>\n",
              "      <td>4177600</td>\n",
              "      <td>V</td>\n",
              "      <td>47.319622</td>\n",
              "      <td>HOLD</td>\n",
              "      <td>0.846492</td>\n",
              "      <td>1.204263</td>\n",
              "      <td>HOLD</td>\n",
              "      <td>-75.632231</td>\n",
              "      <td>HOLD</td>\n",
              "      <td>-79.557688</td>\n",
              "      <td>HOLD</td>\n",
              "      <td>-0.676094</td>\n",
              "      <td>SELL</td>\n",
              "    </tr>\n",
              "    <tr>\n",
              "      <th>2023-08-18</th>\n",
              "      <td>235.580002</td>\n",
              "      <td>239.050003</td>\n",
              "      <td>235.300003</td>\n",
              "      <td>238.169998</td>\n",
              "      <td>238.169998</td>\n",
              "      <td>4344800</td>\n",
              "      <td>V</td>\n",
              "      <td>49.265986</td>\n",
              "      <td>HOLD</td>\n",
              "      <td>0.683802</td>\n",
              "      <td>1.100171</td>\n",
              "      <td>HOLD</td>\n",
              "      <td>-66.436791</td>\n",
              "      <td>HOLD</td>\n",
              "      <td>-112.953521</td>\n",
              "      <td>HOLD</td>\n",
              "      <td>0.690666</td>\n",
              "      <td>BUY</td>\n",
              "    </tr>\n",
              "    <tr>\n",
              "      <th>2023-08-21</th>\n",
              "      <td>239.380005</td>\n",
              "      <td>240.369995</td>\n",
              "      <td>237.789993</td>\n",
              "      <td>238.990005</td>\n",
              "      <td>238.990005</td>\n",
              "      <td>1678841</td>\n",
              "      <td>V</td>\n",
              "      <td>51.254024</td>\n",
              "      <td>HOLD</td>\n",
              "      <td>0.613959</td>\n",
              "      <td>1.002928</td>\n",
              "      <td>HOLD</td>\n",
              "      <td>-57.011416</td>\n",
              "      <td>HOLD</td>\n",
              "      <td>-25.321418</td>\n",
              "      <td>HOLD</td>\n",
              "      <td>-0.151162</td>\n",
              "      <td>SELL</td>\n",
              "    </tr>\n",
              "  </tbody>\n",
              "</table>\n",
              "<p>3883 rows × 18 columns</p>\n",
              "</div>\n",
              "    <div class=\"colab-df-buttons\">\n",
              "\n",
              "  <div class=\"colab-df-container\">\n",
              "    <button class=\"colab-df-convert\" onclick=\"convertToInteractive('df-286a3b3c-5f45-45e5-ad35-92d12767146f')\"\n",
              "            title=\"Convert this dataframe to an interactive table.\"\n",
              "            style=\"display:none;\">\n",
              "\n",
              "  <svg xmlns=\"http://www.w3.org/2000/svg\" height=\"24px\" viewBox=\"0 -960 960 960\">\n",
              "    <path d=\"M120-120v-720h720v720H120Zm60-500h600v-160H180v160Zm220 220h160v-160H400v160Zm0 220h160v-160H400v160ZM180-400h160v-160H180v160Zm440 0h160v-160H620v160ZM180-180h160v-160H180v160Zm440 0h160v-160H620v160Z\"/>\n",
              "  </svg>\n",
              "    </button>\n",
              "\n",
              "  <style>\n",
              "    .colab-df-container {\n",
              "      display:flex;\n",
              "      gap: 12px;\n",
              "    }\n",
              "\n",
              "    .colab-df-convert {\n",
              "      background-color: #E8F0FE;\n",
              "      border: none;\n",
              "      border-radius: 50%;\n",
              "      cursor: pointer;\n",
              "      display: none;\n",
              "      fill: #1967D2;\n",
              "      height: 32px;\n",
              "      padding: 0 0 0 0;\n",
              "      width: 32px;\n",
              "    }\n",
              "\n",
              "    .colab-df-convert:hover {\n",
              "      background-color: #E2EBFA;\n",
              "      box-shadow: 0px 1px 2px rgba(60, 64, 67, 0.3), 0px 1px 3px 1px rgba(60, 64, 67, 0.15);\n",
              "      fill: #174EA6;\n",
              "    }\n",
              "\n",
              "    .colab-df-buttons div {\n",
              "      margin-bottom: 4px;\n",
              "    }\n",
              "\n",
              "    [theme=dark] .colab-df-convert {\n",
              "      background-color: #3B4455;\n",
              "      fill: #D2E3FC;\n",
              "    }\n",
              "\n",
              "    [theme=dark] .colab-df-convert:hover {\n",
              "      background-color: #434B5C;\n",
              "      box-shadow: 0px 1px 3px 1px rgba(0, 0, 0, 0.15);\n",
              "      filter: drop-shadow(0px 1px 2px rgba(0, 0, 0, 0.3));\n",
              "      fill: #FFFFFF;\n",
              "    }\n",
              "  </style>\n",
              "\n",
              "    <script>\n",
              "      const buttonEl =\n",
              "        document.querySelector('#df-286a3b3c-5f45-45e5-ad35-92d12767146f button.colab-df-convert');\n",
              "      buttonEl.style.display =\n",
              "        google.colab.kernel.accessAllowed ? 'block' : 'none';\n",
              "\n",
              "      async function convertToInteractive(key) {\n",
              "        const element = document.querySelector('#df-286a3b3c-5f45-45e5-ad35-92d12767146f');\n",
              "        const dataTable =\n",
              "          await google.colab.kernel.invokeFunction('convertToInteractive',\n",
              "                                                    [key], {});\n",
              "        if (!dataTable) return;\n",
              "\n",
              "        const docLinkHtml = 'Like what you see? Visit the ' +\n",
              "          '<a target=\"_blank\" href=https://colab.research.google.com/notebooks/data_table.ipynb>data table notebook</a>'\n",
              "          + ' to learn more about interactive tables.';\n",
              "        element.innerHTML = '';\n",
              "        dataTable['output_type'] = 'display_data';\n",
              "        await google.colab.output.renderOutput(dataTable, element);\n",
              "        const docLink = document.createElement('div');\n",
              "        docLink.innerHTML = docLinkHtml;\n",
              "        element.appendChild(docLink);\n",
              "      }\n",
              "    </script>\n",
              "  </div>\n",
              "\n",
              "\n",
              "<div id=\"df-c93f0be6-7f9a-4b38-9bd0-9ec9cdd92896\">\n",
              "  <button class=\"colab-df-quickchart\" onclick=\"quickchart('df-c93f0be6-7f9a-4b38-9bd0-9ec9cdd92896')\"\n",
              "            title=\"Suggest charts.\"\n",
              "            style=\"display:none;\">\n",
              "\n",
              "<svg xmlns=\"http://www.w3.org/2000/svg\" height=\"24px\"viewBox=\"0 0 24 24\"\n",
              "     width=\"24px\">\n",
              "    <g>\n",
              "        <path d=\"M19 3H5c-1.1 0-2 .9-2 2v14c0 1.1.9 2 2 2h14c1.1 0 2-.9 2-2V5c0-1.1-.9-2-2-2zM9 17H7v-7h2v7zm4 0h-2V7h2v10zm4 0h-2v-4h2v4z\"/>\n",
              "    </g>\n",
              "</svg>\n",
              "  </button>\n",
              "\n",
              "<style>\n",
              "  .colab-df-quickchart {\n",
              "    background-color: #E8F0FE;\n",
              "    border: none;\n",
              "    border-radius: 50%;\n",
              "    cursor: pointer;\n",
              "    display: none;\n",
              "    fill: #1967D2;\n",
              "    height: 32px;\n",
              "    padding: 0 0 0 0;\n",
              "    width: 32px;\n",
              "  }\n",
              "\n",
              "  .colab-df-quickchart:hover {\n",
              "    background-color: #E2EBFA;\n",
              "    box-shadow: 0px 1px 2px rgba(60, 64, 67, 0.3), 0px 1px 3px 1px rgba(60, 64, 67, 0.15);\n",
              "    fill: #174EA6;\n",
              "  }\n",
              "\n",
              "  [theme=dark] .colab-df-quickchart {\n",
              "    background-color: #3B4455;\n",
              "    fill: #D2E3FC;\n",
              "  }\n",
              "\n",
              "  [theme=dark] .colab-df-quickchart:hover {\n",
              "    background-color: #434B5C;\n",
              "    box-shadow: 0px 1px 3px 1px rgba(0, 0, 0, 0.15);\n",
              "    filter: drop-shadow(0px 1px 2px rgba(0, 0, 0, 0.3));\n",
              "    fill: #FFFFFF;\n",
              "  }\n",
              "</style>\n",
              "\n",
              "  <script>\n",
              "    async function quickchart(key) {\n",
              "      const charts = await google.colab.kernel.invokeFunction(\n",
              "          'suggestCharts', [key], {});\n",
              "    }\n",
              "    (() => {\n",
              "      let quickchartButtonEl =\n",
              "        document.querySelector('#df-c93f0be6-7f9a-4b38-9bd0-9ec9cdd92896 button');\n",
              "      quickchartButtonEl.style.display =\n",
              "        google.colab.kernel.accessAllowed ? 'block' : 'none';\n",
              "    })();\n",
              "  </script>\n",
              "</div>\n",
              "    </div>\n",
              "  </div>\n"
            ]
          },
          "metadata": {},
          "execution_count": 60
        }
      ]
    },
    {
      "cell_type": "code",
      "source": [],
      "metadata": {
        "id": "yledp3a3RnM6"
      },
      "execution_count": null,
      "outputs": []
    }
  ]
}