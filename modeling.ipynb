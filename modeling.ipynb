{
 "cells": [
  {
   "cell_type": "code",
   "execution_count": 2,
   "id": "012a3dfb-d95d-46b2-bf85-5180c4d12fa2",
   "metadata": {},
   "outputs": [
    {
     "name": "stdout",
     "output_type": "stream",
     "text": [
      "Stock data ready to use!\n",
      "Clustering done!\n"
     ]
    }
   ],
   "source": [
    "import pandas as pd\n",
    "import numpy as np\n",
    "import yahoo_fin.stock_info as yh\n",
    "from stock_clustering import clusters_dict\n",
    "from stock_dataset import stock_data\n",
    "import warnings\n",
    "from sklearn.preprocessing import StandardScaler\n",
    "\n",
    "warnings.filterwarnings(\"ignore\")"
   ]
  },
  {
   "cell_type": "code",
   "execution_count": 3,
   "id": "ef099584-5ca4-46c3-82e7-654a1ccf3865",
   "metadata": {},
   "outputs": [
    {
     "data": {
      "text/plain": [
       "dict_items([(3, ['AAPL', 'HD', 'MCD', 'MSFT', 'PG', 'WMT']), (1, ['AMGN', 'CVX', 'IBM', 'JNJ', 'KO', 'MRK', 'TRV', 'UNH']), (0, ['AXP', 'BA', 'CAT', 'CSCO', 'DOW', 'GS', 'HON', 'JPM', 'V']), (2, ['CRM', 'NKE'])])"
      ]
     },
     "execution_count": 3,
     "metadata": {},
     "output_type": "execute_result"
    }
   ],
   "source": [
    "clusters_dict[2] = clusters_dict.pop(4)\n",
    "clusters_dict.items()"
   ]
  },
  {
   "cell_type": "markdown",
   "id": "43759b35-a12f-4b29-b837-ef20eef04caf",
   "metadata": {},
   "source": [
    "Teraz co ja chcę z tym zrobić?\n",
    "- potrzebuję utworzyć osobne słowniki dfów dla każdego klastra - **ZROBIONE**\n",
    "- ekperymentalnie, na jednym ze słowników zrobić dwa modele - dla close i dla daily change:\n",
    "    - najpierw zmienić dane na windowed df dla lstm'a (długość? trzy ostatnie dni starczą chyba); **ZROBIONE**\n",
    "    - rozdzielić na train val test **ZROBIONE**\n",
    "    - zbudować model dla close i model dla dailychange\n",
    "    - porównać modele pod kątem sprawdzania się dla różnych firm\n",
    "    - jeśli źle, przemyśleć klastryzację\n",
    "    - jeśli w miarę dobrze, wybrać na czym opieramy model (close czy dailychange)\n",
    "- stworzyć modele dla wszystkich klastrów\n",
    "- ocenić ich jakość\n",
    "- zapisać modele\n",
    "- sprawdzić, jak je douczać"
   ]
  },
  {
   "cell_type": "code",
   "execution_count": 4,
   "id": "3920aff7-2f88-4a7a-9b91-fcae74e5d663",
   "metadata": {},
   "outputs": [],
   "source": [
    "scaler = StandardScaler()\n",
    "\n",
    "for key in stock_data:\n",
    "    stock_data[key].set_index('date', inplace=True)\n",
    "    stock_data[key][['close', 'dailychange']] = scaler.fit_transform(stock_data[key][['close', 'dailychange']])"
   ]
  },
  {
   "cell_type": "code",
   "execution_count": 5,
   "id": "e7f83eab-c2d8-4aba-a847-0cc4c9ed29d0",
   "metadata": {},
   "outputs": [
    {
     "data": {
      "text/html": [
       "<div>\n",
       "<style scoped>\n",
       "    .dataframe tbody tr th:only-of-type {\n",
       "        vertical-align: middle;\n",
       "    }\n",
       "\n",
       "    .dataframe tbody tr th {\n",
       "        vertical-align: top;\n",
       "    }\n",
       "\n",
       "    .dataframe thead th {\n",
       "        text-align: right;\n",
       "    }\n",
       "</style>\n",
       "<table border=\"1\" class=\"dataframe\">\n",
       "  <thead>\n",
       "    <tr style=\"text-align: right;\">\n",
       "      <th></th>\n",
       "      <th>close</th>\n",
       "      <th>dailychange</th>\n",
       "    </tr>\n",
       "    <tr>\n",
       "      <th>date</th>\n",
       "      <th></th>\n",
       "      <th></th>\n",
       "    </tr>\n",
       "  </thead>\n",
       "  <tbody>\n",
       "    <tr>\n",
       "      <th>2020-07-20</th>\n",
       "      <td>-2.330226</td>\n",
       "      <td>-0.055511</td>\n",
       "    </tr>\n",
       "    <tr>\n",
       "      <th>2020-07-21</th>\n",
       "      <td>-2.396798</td>\n",
       "      <td>-0.756670</td>\n",
       "    </tr>\n",
       "    <tr>\n",
       "      <th>2020-07-22</th>\n",
       "      <td>-2.383435</td>\n",
       "      <td>0.087207</td>\n",
       "    </tr>\n",
       "    <tr>\n",
       "      <th>2020-07-23</th>\n",
       "      <td>-2.600561</td>\n",
       "      <td>-2.367859</td>\n",
       "    </tr>\n",
       "    <tr>\n",
       "      <th>2020-07-24</th>\n",
       "      <td>-2.611841</td>\n",
       "      <td>-0.181363</td>\n",
       "    </tr>\n",
       "    <tr>\n",
       "      <th>...</th>\n",
       "      <td>...</td>\n",
       "      <td>...</td>\n",
       "    </tr>\n",
       "    <tr>\n",
       "      <th>2023-07-12</th>\n",
       "      <td>2.152691</td>\n",
       "      <td>0.400977</td>\n",
       "    </tr>\n",
       "    <tr>\n",
       "      <th>2023-07-13</th>\n",
       "      <td>2.190452</td>\n",
       "      <td>0.150619</td>\n",
       "    </tr>\n",
       "    <tr>\n",
       "      <th>2023-07-14</th>\n",
       "      <td>2.197808</td>\n",
       "      <td>-0.015515</td>\n",
       "    </tr>\n",
       "    <tr>\n",
       "      <th>2023-07-17</th>\n",
       "      <td>2.359642</td>\n",
       "      <td>0.823656</td>\n",
       "    </tr>\n",
       "    <tr>\n",
       "      <th>2023-07-18</th>\n",
       "      <td>2.346891</td>\n",
       "      <td>-0.123603</td>\n",
       "    </tr>\n",
       "  </tbody>\n",
       "</table>\n",
       "<p>754 rows × 2 columns</p>\n",
       "</div>"
      ],
      "text/plain": [
       "               close  dailychange\n",
       "date                             \n",
       "2020-07-20 -2.330226    -0.055511\n",
       "2020-07-21 -2.396798    -0.756670\n",
       "2020-07-22 -2.383435     0.087207\n",
       "2020-07-23 -2.600561    -2.367859\n",
       "2020-07-24 -2.611841    -0.181363\n",
       "...              ...          ...\n",
       "2023-07-12  2.152691     0.400977\n",
       "2023-07-13  2.190452     0.150619\n",
       "2023-07-14  2.197808    -0.015515\n",
       "2023-07-17  2.359642     0.823656\n",
       "2023-07-18  2.346891    -0.123603\n",
       "\n",
       "[754 rows x 2 columns]"
      ]
     },
     "execution_count": 5,
     "metadata": {},
     "output_type": "execute_result"
    }
   ],
   "source": [
    "stock_data['AAPL']"
   ]
  },
  {
   "cell_type": "code",
   "execution_count": 6,
   "id": "e18ba6b5-dce6-4335-9002-f9c6a9ade9e6",
   "metadata": {},
   "outputs": [],
   "source": [
    "cluster_data = {}\n",
    "for cluster, firm_names in clusters_dict.items():\n",
    "    cluster_data[cluster] = {firm_name: stock_data[firm_name] for firm_name in firm_names}"
   ]
  },
  {
   "cell_type": "code",
   "execution_count": 7,
   "id": "699077aa-9649-4db1-8099-2f07238a69c4",
   "metadata": {},
   "outputs": [],
   "source": [
    "cluster_0 = {}\n",
    "for firm_name, df in cluster_data[0].items():\n",
    "    cluster_0[firm_name] = df\n",
    "    \n",
    "cluster_1 = {}\n",
    "for firm_name, df in cluster_data[1].items():\n",
    "    cluster_1[firm_name] = df\n",
    "    \n",
    "cluster_2 = {}\n",
    "for firm_name, df in cluster_data[2].items():\n",
    "    cluster_2[firm_name] = df\n",
    "\n",
    "cluster_3 = {}\n",
    "for firm_name, df in cluster_data[3].items():\n",
    "    cluster_3[firm_name] = df"
   ]
  },
  {
   "cell_type": "code",
   "execution_count": 8,
   "id": "aeb91f33-5bf9-4bbe-b9fb-7e36a372f990",
   "metadata": {},
   "outputs": [
    {
     "data": {
      "text/html": [
       "<div>\n",
       "<style scoped>\n",
       "    .dataframe tbody tr th:only-of-type {\n",
       "        vertical-align: middle;\n",
       "    }\n",
       "\n",
       "    .dataframe tbody tr th {\n",
       "        vertical-align: top;\n",
       "    }\n",
       "\n",
       "    .dataframe thead th {\n",
       "        text-align: right;\n",
       "    }\n",
       "</style>\n",
       "<table border=\"1\" class=\"dataframe\">\n",
       "  <thead>\n",
       "    <tr style=\"text-align: right;\">\n",
       "      <th></th>\n",
       "      <th>close</th>\n",
       "      <th>dailychange</th>\n",
       "    </tr>\n",
       "    <tr>\n",
       "      <th>date</th>\n",
       "      <th></th>\n",
       "      <th></th>\n",
       "    </tr>\n",
       "  </thead>\n",
       "  <tbody>\n",
       "    <tr>\n",
       "      <th>2020-07-20</th>\n",
       "      <td>-0.391614</td>\n",
       "      <td>-0.015302</td>\n",
       "    </tr>\n",
       "    <tr>\n",
       "      <th>2020-07-21</th>\n",
       "      <td>-0.382927</td>\n",
       "      <td>0.053929</td>\n",
       "    </tr>\n",
       "    <tr>\n",
       "      <th>2020-07-22</th>\n",
       "      <td>-0.403776</td>\n",
       "      <td>-0.181280</td>\n",
       "    </tr>\n",
       "    <tr>\n",
       "      <th>2020-07-23</th>\n",
       "      <td>-0.315167</td>\n",
       "      <td>0.691916</td>\n",
       "    </tr>\n",
       "    <tr>\n",
       "      <th>2020-07-24</th>\n",
       "      <td>-0.490648</td>\n",
       "      <td>-1.400806</td>\n",
       "    </tr>\n",
       "    <tr>\n",
       "      <th>...</th>\n",
       "      <td>...</td>\n",
       "      <td>...</td>\n",
       "    </tr>\n",
       "    <tr>\n",
       "      <th>2023-07-12</th>\n",
       "      <td>0.263399</td>\n",
       "      <td>-1.737293</td>\n",
       "    </tr>\n",
       "    <tr>\n",
       "      <th>2023-07-13</th>\n",
       "      <td>0.400657</td>\n",
       "      <td>0.997285</td>\n",
       "    </tr>\n",
       "    <tr>\n",
       "      <th>2023-07-14</th>\n",
       "      <td>0.200852</td>\n",
       "      <td>-1.466725</td>\n",
       "    </tr>\n",
       "    <tr>\n",
       "      <th>2023-07-17</th>\n",
       "      <td>0.275561</td>\n",
       "      <td>0.539794</td>\n",
       "    </tr>\n",
       "    <tr>\n",
       "      <th>2023-07-18</th>\n",
       "      <td>0.350271</td>\n",
       "      <td>0.535096</td>\n",
       "    </tr>\n",
       "  </tbody>\n",
       "</table>\n",
       "<p>754 rows × 2 columns</p>\n",
       "</div>"
      ],
      "text/plain": [
       "               close  dailychange\n",
       "date                             \n",
       "2020-07-20 -0.391614    -0.015302\n",
       "2020-07-21 -0.382927     0.053929\n",
       "2020-07-22 -0.403776    -0.181280\n",
       "2020-07-23 -0.315167     0.691916\n",
       "2020-07-24 -0.490648    -1.400806\n",
       "...              ...          ...\n",
       "2023-07-12  0.263399    -1.737293\n",
       "2023-07-13  0.400657     0.997285\n",
       "2023-07-14  0.200852    -1.466725\n",
       "2023-07-17  0.275561     0.539794\n",
       "2023-07-18  0.350271     0.535096\n",
       "\n",
       "[754 rows x 2 columns]"
      ]
     },
     "execution_count": 8,
     "metadata": {},
     "output_type": "execute_result"
    }
   ],
   "source": [
    "cluster_0['CSCO']"
   ]
  },
  {
   "cell_type": "code",
   "execution_count": 10,
   "id": "fa146bd5-33ee-480b-9783-a6d613fc1f79",
   "metadata": {},
   "outputs": [],
   "source": [
    "closing = {}\n",
    "for key in cluster_0.keys():\n",
    "    closing[key] = cluster_0[key]['close']"
   ]
  },
  {
   "cell_type": "code",
   "execution_count": 11,
   "id": "da0ccbc0-a8f5-4239-8288-4b275ce819f0",
   "metadata": {},
   "outputs": [],
   "source": [
    "daily_change = {}\n",
    "for key in cluster_0.keys():\n",
    "    daily_change[key] = cluster_0[key]['dailychange']"
   ]
  },
  {
   "cell_type": "code",
   "execution_count": 13,
   "id": "bd649b5f-8524-4bc0-8245-c0ba565e81b5",
   "metadata": {},
   "outputs": [],
   "source": [
    "window = 4\n",
    "\n",
    "X = {}\n",
    "Y = {}\n",
    "\n",
    "for key in closing.keys():\n",
    "    X[key] = []\n",
    "    Y[key] = []\n",
    "    for i in range(window, len(closing[key])):\n",
    "        X[key].append(closing[key][i-window:i])\n",
    "        Y[key].append(closing[key][i])"
   ]
  },
  {
   "cell_type": "code",
   "execution_count": 14,
   "id": "d77ba18f-6db8-40ba-aebb-cc5a5abfd177",
   "metadata": {
    "tags": []
   },
   "outputs": [],
   "source": [
    "q_80 = int(len(X['CSCO']) * .8)\n",
    "q_99 = int(len(X['CSCO']) * .99)\n",
    "\n",
    "X_train, X_val, X_test = {}, {}, {}\n",
    "Y_train, Y_val, Y_test = {}, {}, {}\n",
    "\n",
    "for key in X.keys():\n",
    "    X_train[key], X_val[key], X_test[key] = X[key][:q_80], X[key][q_80:q_99], X[key][q_99:]\n",
    "\n",
    "for key in Y.keys():\n",
    "    Y_train[key], Y_val[key], Y_test[key] = Y[key][:q_80], Y[key][q_80:q_99], Y[key][q_99:]                                                \n"
   ]
  },
  {
   "cell_type": "code",
   "execution_count": 18,
   "id": "17e548bc-d6b3-42d8-95b0-173ebc28525b",
   "metadata": {
    "tags": []
   },
   "outputs": [
    {
     "ename": "AttributeError",
     "evalue": "'list' object has no attribute 'shape'",
     "output_type": "error",
     "traceback": [
      "\u001b[0;31m---------------------------------------------------------------------------\u001b[0m",
      "\u001b[0;31mAttributeError\u001b[0m                            Traceback (most recent call last)",
      "Cell \u001b[0;32mIn[18], line 1\u001b[0m\n\u001b[0;32m----> 1\u001b[0m \u001b[43mX\u001b[49m\u001b[43m[\u001b[49m\u001b[38;5;124;43m'\u001b[39;49m\u001b[38;5;124;43mCSCO\u001b[39;49m\u001b[38;5;124;43m'\u001b[39;49m\u001b[43m]\u001b[49m\u001b[38;5;241;43m.\u001b[39;49m\u001b[43mshape\u001b[49m\n",
      "\u001b[0;31mAttributeError\u001b[0m: 'list' object has no attribute 'shape'"
     ]
    }
   ],
   "source": []
  },
  {
   "cell_type": "code",
   "execution_count": 15,
   "id": "b8ecffb5-6441-434e-95af-c34db19e97e1",
   "metadata": {},
   "outputs": [],
   "source": [
    "from keras.models import Sequential\n",
    "from keras.layers import Dense, LSTM, Dropout"
   ]
  },
  {
   "cell_type": "code",
   "execution_count": 19,
   "id": "40084e76-c337-4c8f-ab9f-57619e16a968",
   "metadata": {},
   "outputs": [],
   "source": [
    "model=Sequential()\n",
    "model.add(LSTM(50, activation='relu', input_shape=(4,1)))\n",
    "model.add(Dense(25))\n",
    "model.add(Dense(1))"
   ]
  },
  {
   "cell_type": "code",
   "execution_count": 20,
   "id": "487de0c0-0d0f-4e0b-b9ab-94da39302bbd",
   "metadata": {},
   "outputs": [
    {
     "name": "stdout",
     "output_type": "stream",
     "text": [
      "Model: \"sequential_1\"\n",
      "_________________________________________________________________\n",
      " Layer (type)                Output Shape              Param #   \n",
      "=================================================================\n",
      " lstm_1 (LSTM)               (None, 50)                10400     \n",
      "                                                                 \n",
      " dense_2 (Dense)             (None, 25)                1275      \n",
      "                                                                 \n",
      " dense_3 (Dense)             (None, 1)                 26        \n",
      "                                                                 \n",
      "=================================================================\n",
      "Total params: 11701 (45.71 KB)\n",
      "Trainable params: 11701 (45.71 KB)\n",
      "Non-trainable params: 0 (0.00 Byte)\n",
      "_________________________________________________________________\n"
     ]
    }
   ],
   "source": [
    "model.compile(loss='mean_squared_error', optimizer='adam')\n",
    "model.summary()"
   ]
  },
  {
   "cell_type": "code",
   "execution_count": 21,
   "id": "6a6af3b1-01e7-4f6e-881b-e4ccd07fa81f",
   "metadata": {},
   "outputs": [
    {
     "ename": "ValueError",
     "evalue": "Failed to find data adapter that can handle input: (<class 'list'> containing values of types {\"<class 'pandas.core.series.Series'>\"}), (<class 'list'> containing values of types {\"<class 'numpy.float64'>\"})",
     "output_type": "error",
     "traceback": [
      "\u001b[0;31m---------------------------------------------------------------------------\u001b[0m",
      "\u001b[0;31mValueError\u001b[0m                                Traceback (most recent call last)",
      "Cell \u001b[0;32mIn[21], line 2\u001b[0m\n\u001b[1;32m      1\u001b[0m \u001b[38;5;28;01mfor\u001b[39;00m key \u001b[38;5;129;01min\u001b[39;00m X\u001b[38;5;241m.\u001b[39mkeys():\n\u001b[0;32m----> 2\u001b[0m     \u001b[43mmodel\u001b[49m\u001b[38;5;241;43m.\u001b[39;49m\u001b[43mfit\u001b[49m\u001b[43m(\u001b[49m\u001b[43mX_train\u001b[49m\u001b[43m[\u001b[49m\u001b[43mkey\u001b[49m\u001b[43m]\u001b[49m\u001b[43m,\u001b[49m\u001b[43m \u001b[49m\u001b[43mY_train\u001b[49m\u001b[43m[\u001b[49m\u001b[43mkey\u001b[49m\u001b[43m]\u001b[49m\u001b[43m,\u001b[49m\u001b[43m \u001b[49m\u001b[43mepochs\u001b[49m\u001b[38;5;241;43m=\u001b[39;49m\u001b[38;5;241;43m10\u001b[39;49m\u001b[43m,\u001b[49m\u001b[43m \u001b[49m\u001b[43mbatch_size\u001b[49m\u001b[38;5;241;43m=\u001b[39;49m\u001b[38;5;241;43m10\u001b[39;49m\u001b[43m)\u001b[49m\n",
      "File \u001b[0;32m~/anaconda3/lib/python3.10/site-packages/keras/src/utils/traceback_utils.py:70\u001b[0m, in \u001b[0;36mfilter_traceback.<locals>.error_handler\u001b[0;34m(*args, **kwargs)\u001b[0m\n\u001b[1;32m     67\u001b[0m     filtered_tb \u001b[38;5;241m=\u001b[39m _process_traceback_frames(e\u001b[38;5;241m.\u001b[39m__traceback__)\n\u001b[1;32m     68\u001b[0m     \u001b[38;5;66;03m# To get the full stack trace, call:\u001b[39;00m\n\u001b[1;32m     69\u001b[0m     \u001b[38;5;66;03m# `tf.debugging.disable_traceback_filtering()`\u001b[39;00m\n\u001b[0;32m---> 70\u001b[0m     \u001b[38;5;28;01mraise\u001b[39;00m e\u001b[38;5;241m.\u001b[39mwith_traceback(filtered_tb) \u001b[38;5;28;01mfrom\u001b[39;00m \u001b[38;5;28mNone\u001b[39m\n\u001b[1;32m     71\u001b[0m \u001b[38;5;28;01mfinally\u001b[39;00m:\n\u001b[1;32m     72\u001b[0m     \u001b[38;5;28;01mdel\u001b[39;00m filtered_tb\n",
      "File \u001b[0;32m~/anaconda3/lib/python3.10/site-packages/keras/src/engine/data_adapter.py:1105\u001b[0m, in \u001b[0;36mselect_data_adapter\u001b[0;34m(x, y)\u001b[0m\n\u001b[1;32m   1102\u001b[0m adapter_cls \u001b[38;5;241m=\u001b[39m [\u001b[38;5;28mcls\u001b[39m \u001b[38;5;28;01mfor\u001b[39;00m \u001b[38;5;28mcls\u001b[39m \u001b[38;5;129;01min\u001b[39;00m ALL_ADAPTER_CLS \u001b[38;5;28;01mif\u001b[39;00m \u001b[38;5;28mcls\u001b[39m\u001b[38;5;241m.\u001b[39mcan_handle(x, y)]\n\u001b[1;32m   1103\u001b[0m \u001b[38;5;28;01mif\u001b[39;00m \u001b[38;5;129;01mnot\u001b[39;00m adapter_cls:\n\u001b[1;32m   1104\u001b[0m     \u001b[38;5;66;03m# TODO(scottzhu): This should be a less implementation-specific error.\u001b[39;00m\n\u001b[0;32m-> 1105\u001b[0m     \u001b[38;5;28;01mraise\u001b[39;00m \u001b[38;5;167;01mValueError\u001b[39;00m(\n\u001b[1;32m   1106\u001b[0m         \u001b[38;5;124m\"\u001b[39m\u001b[38;5;124mFailed to find data adapter that can handle input: \u001b[39m\u001b[38;5;132;01m{}\u001b[39;00m\u001b[38;5;124m, \u001b[39m\u001b[38;5;132;01m{}\u001b[39;00m\u001b[38;5;124m\"\u001b[39m\u001b[38;5;241m.\u001b[39mformat(\n\u001b[1;32m   1107\u001b[0m             _type_name(x), _type_name(y)\n\u001b[1;32m   1108\u001b[0m         )\n\u001b[1;32m   1109\u001b[0m     )\n\u001b[1;32m   1110\u001b[0m \u001b[38;5;28;01melif\u001b[39;00m \u001b[38;5;28mlen\u001b[39m(adapter_cls) \u001b[38;5;241m>\u001b[39m \u001b[38;5;241m1\u001b[39m:\n\u001b[1;32m   1111\u001b[0m     \u001b[38;5;28;01mraise\u001b[39;00m \u001b[38;5;167;01mRuntimeError\u001b[39;00m(\n\u001b[1;32m   1112\u001b[0m         \u001b[38;5;124m\"\u001b[39m\u001b[38;5;124mData adapters should be mutually exclusive for \u001b[39m\u001b[38;5;124m\"\u001b[39m\n\u001b[1;32m   1113\u001b[0m         \u001b[38;5;124m\"\u001b[39m\u001b[38;5;124mhandling inputs. Found multiple adapters \u001b[39m\u001b[38;5;132;01m{}\u001b[39;00m\u001b[38;5;124m to handle \u001b[39m\u001b[38;5;124m\"\u001b[39m\n\u001b[1;32m   1114\u001b[0m         \u001b[38;5;124m\"\u001b[39m\u001b[38;5;124minput: \u001b[39m\u001b[38;5;132;01m{}\u001b[39;00m\u001b[38;5;124m, \u001b[39m\u001b[38;5;132;01m{}\u001b[39;00m\u001b[38;5;124m\"\u001b[39m\u001b[38;5;241m.\u001b[39mformat(adapter_cls, _type_name(x), _type_name(y))\n\u001b[1;32m   1115\u001b[0m     )\n",
      "\u001b[0;31mValueError\u001b[0m: Failed to find data adapter that can handle input: (<class 'list'> containing values of types {\"<class 'pandas.core.series.Series'>\"}), (<class 'list'> containing values of types {\"<class 'numpy.float64'>\"})"
     ]
    }
   ],
   "source": [
    "for key in X.keys():\n",
    "    model.fit(X_train[key], Y_train[key], epochs=10, batch_size=10)"
   ]
  },
  {
   "cell_type": "code",
   "execution_count": null,
   "id": "cdc692eb-02f9-433b-bd6e-4d6dd3f7acd9",
   "metadata": {},
   "outputs": [],
   "source": []
  }
 ],
 "metadata": {
  "kernelspec": {
   "display_name": "Python 3 (ipykernel)",
   "language": "python",
   "name": "python3"
  },
  "language_info": {
   "codemirror_mode": {
    "name": "ipython",
    "version": 3
   },
   "file_extension": ".py",
   "mimetype": "text/x-python",
   "name": "python",
   "nbconvert_exporter": "python",
   "pygments_lexer": "ipython3",
   "version": "3.10.9"
  }
 },
 "nbformat": 4,
 "nbformat_minor": 5
}
